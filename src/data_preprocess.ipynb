{
 "cells": [
  {
   "cell_type": "code",
   "execution_count": 54,
   "metadata": {},
   "outputs": [
    {
     "name": "stdout",
     "output_type": "stream",
     "text": [
      "The autoreload extension is already loaded. To reload it, use:\n",
      "  %reload_ext autoreload\n"
     ]
    }
   ],
   "source": [
    "%matplotlib inline\n",
    "%load_ext autoreload\n",
    "%autoreload 2\n",
    "\n",
    "# Standard library imports.\n",
    "import os\n",
    "from datetime import timedelta, datetime\n",
    "import pprint\n",
    "import pickle\n",
    "import json\n",
    "from typing import List, Dict\n",
    "\n",
    "# Related third party imports.\n",
    "import matplotlib.pyplot as plt\n",
    "import numpy as np\n",
    "from scipy.interpolate import interp1d\n",
    "\n",
    "# Local application/library specific imports.\n",
    "from cerebralcortex.cerebralcortex import CerebralCortex\n",
    "from cerebralcortex.core.datatypes.datastream import DataPoint\n",
    "import utils\n",
    "import validation\n"
   ]
  },
  {
   "cell_type": "code",
   "execution_count": 77,
   "metadata": {},
   "outputs": [],
   "source": [
    "# Set important paths\n",
    "config_path = '../config/'\n",
    "data_path = '../data/'\n",
    "\n",
    "# Load all user IDs\n",
    "with open(config_path+'users.json', 'r') as f:\n",
    "    USR_IDS = json.load(f)\n",
    "\n",
    "# Load all users' work days\n",
    "with open(data_path+'usr_work_days.pkl', 'rb') as f:\n",
    "    usr_work_days = pickle.load(f)"
   ]
  },
  {
   "cell_type": "code",
   "execution_count": 39,
   "metadata": {},
   "outputs": [
    {
     "data": {
      "text/plain": [
       "(array([ 4.,  0.,  0.,  0.,  0.,  0.,  0.,  0.,  0., 31.]),\n",
       " array([0.025 , 0.1225, 0.22  , 0.3175, 0.415 , 0.5125, 0.61  , 0.7075,\n",
       "        0.805 , 0.9025, 1.    ]),\n",
       " <a list of 10 Patch objects>)"
      ]
     },
     "execution_count": 39,
     "metadata": {},
     "output_type": "execute_result"
    },
    {
     "data": {
      "image/png": "[encoded data removed]",
      "text/plain": [
       "<Figure size 432x288 with 1 Axes>"
      ]
     },
     "metadata": {},
     "output_type": "display_data"
    },
    {
     "data": {
      "image/png": "[encoded data removed]",
      "text/plain": [
       "<Figure size 432x288 with 1 Axes>"
      ]
     },
     "metadata": {},
     "output_type": "display_data"
    }
   ],
   "source": [
    "step_cnt_fn = '/home/mperf/sandeep/Codes/data/03996723-2411-4167-b14b-eb11dfc33124/step_cnt20180102.npz'\n",
    "accel_fn = '/home/mperf/sandeep/Codes/data/03996723-2411-4167-b14b-eb11dfc33124/accel20180102.npz'\n",
    "gyro_fn = '/home/mperf/sandeep/Codes/data/03996723-2411-4167-b14b-eb11dfc33124/gyro20180102.npz'\n",
    "act_type_fn = '/home/mperf/sandeep/Codes/data/03996723-2411-4167-b14b-eb11dfc33124/act_type20180102.npz'\n",
    "arrays = np.load(fn)\n",
    "np.set_printoptions(suppress=True)\n",
    "accel = arrays['arr_0']\n",
    "\n",
    "\n",
    "plt.figure()\n",
    "plt.plot(np.ediff1d(accel[:, 0]), 'o')\n",
    "plt.figure()\n",
    "plt.hist(np.ediff1d(accel[:, 0]), range=(0.025, 1))\n",
    "# print(file['arr_0'][0][0] -test['arr_0'][1][0])"
   ]
  },
  {
   "cell_type": "code",
   "execution_count": 87,
   "metadata": {},
   "outputs": [
    {
     "name": "stdout",
     "output_type": "stream",
     "text": [
      "['accel', 'act_type', 'gyro', 'step_cnt']\n",
      "['accel', 'act_type', 'gyro', 'step_cnt']\n",
      "['accel', 'act_type', 'gyro', 'step_cnt']\n",
      "['accel', 'act_type', 'gyro', 'step_cnt']\n",
      "['accel', 'act_type', 'gyro', 'step_cnt']\n",
      "['accel', 'act_type', 'gyro', 'step_cnt']\n",
      "['accel', 'act_type', 'gyro', 'step_cnt']\n"
     ]
    }
   ],
   "source": [
    "def resample(x, start_t, end_t, freq):\n",
    "    'Resample x with freq from start_t to end_t'\n",
    "    \n",
    "    f_new = interp1d(x[:, 0], x[:, 2:], kind='zero', axis=0)\n",
    "    # print((min(end_ts) - max(start_ts))/3600)\n",
    "    ts_new = np.arange(start_t, end_t, 1.0/freq)\n",
    "    x_new = np.hstack((ts_new.reshape((-1, 1)), f_new(ts_new)))\n",
    "    return x_new\n",
    "\n",
    "\n",
    "INTERP_FREQ = 20.0 # 20.0 HZ\n",
    "\n",
    "for usr_id in usr_work_days:\n",
    "    usr_path = data_path+usr_id+'/'\n",
    "    for day in usr_work_days[usr_id]:\n",
    "\n",
    "        accel = np.load(usr_path+'accel'+day+'.npz')['arr_0']\n",
    "        act_type = np.load(usr_path+'act_type'+day+'.npz')['arr_0']\n",
    "        gyro = np.load(usr_path+'gyro'+day+'.npz')['arr_0']\n",
    "        step_cnt = np.load(usr_path+'step_cnt'+day+'.npz')['arr_0']\n",
    "        start_t = max([accel[0][0], act_type[0][0], \n",
    "                       gyro[0][0], step_cnt[0][0]])\n",
    "        end_t = min([accel[-1][0], act_type[-1][0], \n",
    "                     gyro[-1][0], step_cnt[-1][0]])\n",
    "        \n",
    "        accel = resample(accel, start_t, end_t, INTERP_FREQ)\n",
    "        act_type = resample(act_type, start_t, end_t, INTERP_FREQ)\n",
    "        gyro = resample(gyro, start_t, end_t, INTERP_FREQ)\n",
    "        step_cnt  = resample(step_cnt, start_t, end_t, INTERP_FREQ)\n",
    "        \n",
    "        np.savez(usr_path+'data'+day+'.npz',\n",
    "                 accel=accel,\n",
    "                 act_type=act_type,\n",
    "                 gyro=gyro,\n",
    "                 step_cnt=step_cnt)\n",
    "#     try:\n",
    "#         x = np.load(usr_path+'data'+day+'.npz')\n",
    "#         print(x.files)\n",
    "#     except FileNotFoundError:\n",
    "#         continue"
   ]
  }
 ],
 "metadata": {
  "kernelspec": {
   "display_name": "Python [conda env:myenv]",
   "language": "python",
   "name": "conda-env-myenv-py"
  },
  "language_info": {
   "codemirror_mode": {
    "name": "ipython",
    "version": 3
   },
   "file_extension": ".py",
   "mimetype": "text/x-python",
   "name": "python",
   "nbconvert_exporter": "python",
   "pygments_lexer": "ipython3",
   "version": "3.6.5"
  }
 },
 "nbformat": 4,
 "nbformat_minor": 2
}
