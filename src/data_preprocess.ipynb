{
 "cells": [
  {
   "cell_type": "code",
   "execution_count": 2,
   "metadata": {},
   "outputs": [
    {
     "name": "stderr",
     "output_type": "stream",
     "text": [
      "/home/mperf/anaconda3/envs/myenv/lib/python3.6/importlib/_bootstrap.py:219: ImportWarning: can't resolve package from __spec__ or __package__, falling back on __name__ and __path__\n",
      "  return f(*args, **kwds)\n",
      "/home/mperf/anaconda3/envs/myenv/lib/python3.6/site-packages/pympler/asizeof.py:217: DeprecationWarning: unicode_internal codec has been deprecated\n",
      "  u = u.encode('unicode-internal')  # see .../Lib/test/test_sys.py\n",
      "/home/mperf/anaconda3/envs/myenv/lib/python3.6/importlib/_bootstrap_external.py:426: ImportWarning: Not importing directory /home/mperf/anaconda3/envs/myenv/lib/python3.6/site-packages/google: missing __init__\n",
      "  _warnings.warn(msg.format(portions[0]), ImportWarning)\n",
      "/home/mperf/anaconda3/envs/myenv/lib/python3.6/importlib/_bootstrap_external.py:426: ImportWarning: Not importing directory /home/mperf/anaconda3/envs/myenv/lib/python3.6/site-packages/mpl_toolkits: missing __init__\n",
      "  _warnings.warn(msg.format(portions[0]), ImportWarning)\n",
      "/home/mperf/anaconda3/envs/myenv/lib/python3.6/importlib/_bootstrap.py:219: ImportWarning: can't resolve package from __spec__ or __package__, falling back on __name__ and __path__\n",
      "  return f(*args, **kwds)\n"
     ]
    }
   ],
   "source": [
    "%matplotlib inline\n",
    "%load_ext autoreload\n",
    "%autoreload 2\n",
    "\n",
    "# Standard library imports.\n",
    "from datetime import timedelta, datetime\n",
    "import pprint\n",
    "import pickle\n",
    "import json\n",
    "from typing import List, Dict\n",
    "\n",
    "# Related third party imports.\n",
    "import matplotlib.pyplot as plt\n",
    "import numpy as np\n",
    "from scipy.interpolate import interp1d\n",
    "import pandas as pd\n",
    "\n",
    "# Local application/library specific imports.\n",
    "from cerebralcortex.cerebralcortex import CerebralCortex"
   ]
  },
  {
   "cell_type": "code",
   "execution_count": 3,
   "metadata": {},
   "outputs": [],
   "source": [
    "# Set important paths\n",
    "config_path = '../config/'\n",
    "data_path = '../data/'\n",
    "\n",
    "# Load all user IDs\n",
    "with open(config_path+'users.json', 'r') as f:\n",
    "    USR_IDS = json.load(f)\n",
    "\n",
    "# Load all users' work days\n",
    "with open(data_path+'usr_work_days.pkl', 'rb') as f:\n",
    "    usr_work_days = pickle.load(f)\n",
    "    \n",
    "# Load all users' groundthruths\n",
    "with open(data_path+'at_desk_groundtruth.pkl', 'rb') as f:\n",
    "    at_desk_groundtruth = pickle.load(f)"
   ]
  },
  {
   "cell_type": "code",
   "execution_count": 4,
   "metadata": {},
   "outputs": [
    {
     "name": "stdout",
     "output_type": "stream",
     "text": [
      "<class 'datetime.datetime'>\n",
      "<class 'datetime.datetime'>\n",
      "<class 'datetime.datetime'>\n",
      "<class 'datetime.datetime'>\n",
      "<class 'datetime.datetime'>\n",
      "<class 'datetime.datetime'>\n",
      "<class 'datetime.datetime'>\n"
     ]
    }
   ],
   "source": [
    "for usr_id in at_desk_groundtruth:\n",
    "    if at_desk_groundtruth[usr_id]:\n",
    "        print(type(at_desk_groundtruth[usr_id][0][0]))"
   ]
  },
  {
   "cell_type": "code",
   "execution_count": 5,
   "metadata": {},
   "outputs": [
    {
     "data": {
      "text/plain": [
       "(array([1540245.,     382.,      23.,      16.,       7.,       7.,\n",
       "             12.,      10.,       2.,       5.]),\n",
       " array([0.025 , 0.1225, 0.22  , 0.3175, 0.415 , 0.5125, 0.61  , 0.7075,\n",
       "        0.805 , 0.9025, 1.    ]),\n",
       " <a list of 10 Patch objects>)"
      ]
     },
     "execution_count": 5,
     "metadata": {},
     "output_type": "execute_result"
    },
    {
     "data": {
      "image/png": "[encoded data removed]",
      "text/plain": [
       "<Figure size 432x288 with 1 Axes>"
      ]
     },
     "metadata": {},
     "output_type": "display_data"
    },
    {
     "data": {
      "image/png": "[encoded data removed]",
      "text/plain": [
       "<Figure size 432x288 with 1 Axes>"
      ]
     },
     "metadata": {},
     "output_type": "display_data"
    }
   ],
   "source": [
    "step_cnt_fn = '/home/mperf/sandeep/Codes/data/03996723-2411-4167-b14b-eb11dfc33124/step_cnt20180102.npz'\n",
    "accel_fn = '/home/mperf/sandeep/Codes/data/03996723-2411-4167-b14b-eb11dfc33124/accel20180102.npz'\n",
    "gyro_fn = '/home/mperf/sandeep/Codes/data/03996723-2411-4167-b14b-eb11dfc33124/gyro20180102.npz'\n",
    "act_type_fn = '/home/mperf/sandeep/Codes/data/03996723-2411-4167-b14b-eb11dfc33124/act_type20180102.npz'\n",
    "arrays = np.load(accel_fn)\n",
    "np.set_printoptions(suppress=True)\n",
    "accel = arrays['arr_0']\n",
    "\n",
    "\n",
    "plt.figure()\n",
    "plt.plot(np.ediff1d(accel[:, 0]), 'o')\n",
    "plt.figure()\n",
    "plt.hist(np.ediff1d(accel[:, 0]), range=(0.025, 1))\n",
    "# print(file['arr_0'][0][0] -test['arr_0'][1][0])"
   ]
  },
  {
   "cell_type": "code",
   "execution_count": 10,
   "metadata": {},
   "outputs": [
    {
     "name": "stdout",
     "output_type": "stream",
     "text": [
      "[-28800000. -28800000. -28800000. ... -28800000. -28800000. -28800000.]\n",
      "[-28800000. -28800000. -28800000. ... -28800000. -28800000. -28800000.]\n",
      "[-28800000. -28800000. -28800000. ... -28800000. -28800000. -28800000.]\n",
      "[-28800000. -28800000. -28800000. ... -28800000. -28800000. -28800000.]\n"
     ]
    },
    {
     "ename": "KeyboardInterrupt",
     "evalue": "",
     "output_type": "error",
     "traceback": [
      "\u001b[0;31m---------------------------------------------------------------------------\u001b[0m",
      "\u001b[0;31mKeyboardInterrupt\u001b[0m                         Traceback (most recent call last)",
      "\u001b[0;32m<ipython-input-10-8e52df127ac5>\u001b[0m in \u001b[0;36m<module>\u001b[0;34m()\u001b[0m\n\u001b[1;32m     47\u001b[0m         \u001b[0mts_new\u001b[0m \u001b[0;34m=\u001b[0m \u001b[0mnp\u001b[0m\u001b[0;34m.\u001b[0m\u001b[0marange\u001b[0m\u001b[0;34m(\u001b[0m\u001b[0mstart_t\u001b[0m\u001b[0;34m,\u001b[0m \u001b[0mend_t\u001b[0m\u001b[0;34m,\u001b[0m \u001b[0;36m1.0\u001b[0m\u001b[0;34m/\u001b[0m\u001b[0mINTERP_FREQ\u001b[0m\u001b[0;34m)\u001b[0m\u001b[0;34m\u001b[0m\u001b[0m\n\u001b[1;32m     48\u001b[0m \u001b[0;34m\u001b[0m\u001b[0m\n\u001b[0;32m---> 49\u001b[0;31m         \u001b[0mdf\u001b[0m \u001b[0;34m=\u001b[0m \u001b[0mpd\u001b[0m\u001b[0;34m.\u001b[0m\u001b[0mDataFrame\u001b[0m\u001b[0;34m(\u001b[0m\u001b[0;34m{\u001b[0m\u001b[0;34m'val'\u001b[0m \u001b[0;34m:\u001b[0m \u001b[0mnp\u001b[0m\u001b[0;34m.\u001b[0m\u001b[0mzeros\u001b[0m\u001b[0;34m(\u001b[0m\u001b[0mts_new\u001b[0m\u001b[0;34m.\u001b[0m\u001b[0mshape\u001b[0m\u001b[0;34m)\u001b[0m\u001b[0;34m}\u001b[0m\u001b[0;34m,\u001b[0m \u001b[0mindex\u001b[0m\u001b[0;34m=\u001b[0m\u001b[0mpd\u001b[0m\u001b[0;34m.\u001b[0m\u001b[0mto_datetime\u001b[0m\u001b[0;34m(\u001b[0m\u001b[0mts_new\u001b[0m\u001b[0;34m,\u001b[0m \u001b[0munit\u001b[0m\u001b[0;34m=\u001b[0m\u001b[0;34m's'\u001b[0m\u001b[0;34m)\u001b[0m\u001b[0;34m)\u001b[0m\u001b[0;34m\u001b[0m\u001b[0m\n\u001b[0m\u001b[1;32m     50\u001b[0m \u001b[0;34m\u001b[0m\u001b[0m\n\u001b[1;32m     51\u001b[0m         \u001b[0;32mfor\u001b[0m \u001b[0mstart_t\u001b[0m\u001b[0;34m,\u001b[0m \u001b[0mend_t\u001b[0m \u001b[0;32min\u001b[0m \u001b[0mat_desk_groundtruth\u001b[0m\u001b[0;34m[\u001b[0m\u001b[0musr_id\u001b[0m\u001b[0;34m]\u001b[0m\u001b[0;34m:\u001b[0m\u001b[0;34m\u001b[0m\u001b[0m\n",
      "\u001b[0;32m~/anaconda3/envs/myenv/lib/python3.6/site-packages/pandas/core/tools/datetimes.py\u001b[0m in \u001b[0;36mto_datetime\u001b[0;34m(arg, errors, dayfirst, yearfirst, utc, box, format, exact, unit, infer_datetime_format, origin, cache)\u001b[0m\n\u001b[1;32m    465\u001b[0m             \u001b[0mresult\u001b[0m \u001b[0;34m=\u001b[0m \u001b[0m_convert_and_box_cache\u001b[0m\u001b[0;34m(\u001b[0m\u001b[0marg\u001b[0m\u001b[0;34m,\u001b[0m \u001b[0mcache_array\u001b[0m\u001b[0;34m,\u001b[0m \u001b[0mbox\u001b[0m\u001b[0;34m,\u001b[0m \u001b[0merrors\u001b[0m\u001b[0;34m)\u001b[0m\u001b[0;34m\u001b[0m\u001b[0m\n\u001b[1;32m    466\u001b[0m         \u001b[0;32melse\u001b[0m\u001b[0;34m:\u001b[0m\u001b[0;34m\u001b[0m\u001b[0m\n\u001b[0;32m--> 467\u001b[0;31m             \u001b[0mresult\u001b[0m \u001b[0;34m=\u001b[0m \u001b[0m_convert_listlike\u001b[0m\u001b[0;34m(\u001b[0m\u001b[0marg\u001b[0m\u001b[0;34m,\u001b[0m \u001b[0mbox\u001b[0m\u001b[0;34m,\u001b[0m \u001b[0mformat\u001b[0m\u001b[0;34m)\u001b[0m\u001b[0;34m\u001b[0m\u001b[0m\n\u001b[0m\u001b[1;32m    468\u001b[0m     \u001b[0;32melse\u001b[0m\u001b[0;34m:\u001b[0m\u001b[0;34m\u001b[0m\u001b[0m\n\u001b[1;32m    469\u001b[0m         \u001b[0mresult\u001b[0m \u001b[0;34m=\u001b[0m \u001b[0m_convert_listlike\u001b[0m\u001b[0;34m(\u001b[0m\u001b[0mnp\u001b[0m\u001b[0;34m.\u001b[0m\u001b[0marray\u001b[0m\u001b[0;34m(\u001b[0m\u001b[0;34m[\u001b[0m\u001b[0marg\u001b[0m\u001b[0;34m]\u001b[0m\u001b[0;34m)\u001b[0m\u001b[0;34m,\u001b[0m \u001b[0mbox\u001b[0m\u001b[0;34m,\u001b[0m \u001b[0mformat\u001b[0m\u001b[0;34m)\u001b[0m\u001b[0;34m[\u001b[0m\u001b[0;36m0\u001b[0m\u001b[0;34m]\u001b[0m\u001b[0;34m\u001b[0m\u001b[0m\n",
      "\u001b[0;32m~/anaconda3/envs/myenv/lib/python3.6/site-packages/pandas/core/tools/datetimes.py\u001b[0m in \u001b[0;36m_convert_listlike\u001b[0;34m(arg, box, format, name, tz)\u001b[0m\n\u001b[1;32m    301\u001b[0m             \u001b[0marg\u001b[0m \u001b[0;34m=\u001b[0m \u001b[0mgetattr\u001b[0m\u001b[0;34m(\u001b[0m\u001b[0marg\u001b[0m\u001b[0;34m,\u001b[0m \u001b[0;34m'values'\u001b[0m\u001b[0;34m,\u001b[0m \u001b[0marg\u001b[0m\u001b[0;34m)\u001b[0m\u001b[0;34m\u001b[0m\u001b[0m\n\u001b[1;32m    302\u001b[0m             result = tslib.array_with_unit_to_datetime(arg, unit,\n\u001b[0;32m--> 303\u001b[0;31m                                                        errors=errors)\n\u001b[0m\u001b[1;32m    304\u001b[0m             \u001b[0;32mif\u001b[0m \u001b[0mbox\u001b[0m\u001b[0;34m:\u001b[0m\u001b[0;34m\u001b[0m\u001b[0m\n\u001b[1;32m    305\u001b[0m                 \u001b[0;32mif\u001b[0m \u001b[0merrors\u001b[0m \u001b[0;34m==\u001b[0m \u001b[0;34m'ignore'\u001b[0m\u001b[0;34m:\u001b[0m\u001b[0;34m\u001b[0m\u001b[0m\n",
      "\u001b[0;32mpandas/_libs/tslib.pyx\u001b[0m in \u001b[0;36mpandas._libs.tslib.array_with_unit_to_datetime\u001b[0;34m()\u001b[0m\n",
      "\u001b[0;32mpandas/_libs/tslib.pyx\u001b[0m in \u001b[0;36mpandas._libs.tslib.array_with_unit_to_datetime\u001b[0;34m()\u001b[0m\n",
      "\u001b[0;32mpandas/_libs/tslibs/timedeltas.pyx\u001b[0m in \u001b[0;36mpandas._libs.tslibs.timedeltas.cast_from_unit\u001b[0;34m()\u001b[0m\n",
      "\u001b[0;31mKeyboardInterrupt\u001b[0m: "
     ]
    }
   ],
   "source": [
    "import pdb\n",
    "def resample(x, ts_new):\n",
    "    'Resamples x with freq from start_t to end_t'\n",
    "    \n",
    "    f_new = interp1d(x[:, 0], x[:, 1:], kind='zero', axis=0)\n",
    "    \n",
    "    x_new = np.hstack((ts_new.reshape((-1, 1)), f_new(ts_new)))\n",
    "    return x_new\n",
    "\n",
    "# def is_at_desk(ts, groundtruth):\n",
    "#     for start_t, end_t in groundtruth:\n",
    "#         if ts >= start_t.timestamp() and ts <= end_t.timestamp():\n",
    "#             return 1\n",
    "#     return 0\n",
    "\n",
    "# def prepare_labels(groundtruth, ts_new):\n",
    "#     'Generates a series of labels for ts_new based on groundtruth'\n",
    "#     results = list()\n",
    "#     for ts in ts_new:\n",
    "#         results.append(is_at_desk(ts, groundtruth))\n",
    "#     return np.array(results)\n",
    "\n",
    "\n",
    "\n",
    "\n",
    "INTERP_FREQ = 20.0 # 20.0 HZ\n",
    "\n",
    "for usr_id in usr_work_days:\n",
    "    usr_path = data_path+usr_id+'/'\n",
    "    for day in usr_work_days[usr_id]:\n",
    "\n",
    "        accel = np.load(usr_path+'accel'+day+'.npz')['arr_0']\n",
    "        act_type = np.load(usr_path+'act_type'+day+'.npz')['arr_0']\n",
    "        gyro = np.load(usr_path+'gyro'+day+'.npz')['arr_0']\n",
    "        step_cnt = np.load(usr_path+'step_cnt'+day+'.npz')['arr_0']\n",
    "\n",
    "        # Find the latest start time among all sensors\n",
    "        start_t = max([accel[0][0], act_type[0][0], \n",
    "                       gyro[0][0], step_cnt[0][0]])\n",
    "        \n",
    "        # Find the earliest end time among all sensors\n",
    "        end_t = min([accel[-1][0], act_type[-1][0], \n",
    "                     gyro[-1][0], step_cnt[-1][0]])\n",
    "        \n",
    "        # Generate new timestamps\n",
    "        ts_new = np.arange(start_t, end_t, 1.0/INTERP_FREQ)\n",
    "        \n",
    "        df = pd.DataFrame({'val' : np.zeros(ts_new.shape)}, index=pd.to_datetime(ts_new, unit='s'))\n",
    "  \n",
    "        for start_t, end_t in at_desk_groundtruth[usr_id]:\n",
    "            df[start_t : end_t] = 1\n",
    "        \n",
    "        \n",
    "        accel = resample(accel, ts_new)\n",
    "        offset = accel[:, 2]\n",
    "        act_type = resample(act_type, ts_new)\n",
    "        gyro = resample(gyro, ts_new)\n",
    "        step_cnt  = resample(step_cnt, ts_new)\n",
    "        labels = np.asarray(df.values).reshape(-1)\n",
    "# prepare_labels(at_desk_groundtruth[usr_id], ts_new)\n",
    "        \n",
    "        assert(ts_new.shape[0] == accel.shape[0])\n",
    "        assert(ts_new.shape[0] == act_type.shape[0])\n",
    "        assert(ts_new.shape[0] == gyro.shape[0])\n",
    "        assert(ts_new.shape[0] == step_cnt.shape[0])\n",
    "        assert(ts_new.shape[0] == labels.shape[0])\n",
    "        \n",
    "        \n",
    "        np.savez(usr_path+'data'+day+'.npz',\n",
    "                 ts=ts_new,\n",
    "                 offset=,\n",
    "                 accel=accel[:, 3:],\n",
    "                 act_type=act_type[:, 3:],\n",
    "                 gyro=gyro[:, 3:],\n",
    "                 step_cnt=step_cnt[:, 3:],\n",
    "                 labels=labels)"
   ]
  }
 ],
 "metadata": {
  "kernelspec": {
   "display_name": "Python [conda env:myenv]",
   "language": "python",
   "name": "conda-env-myenv-py"
  },
  "language_info": {
   "codemirror_mode": {
    "name": "ipython",
    "version": 3
   },
   "file_extension": ".py",
   "mimetype": "text/x-python",
   "name": "python",
   "nbconvert_exporter": "python",
   "pygments_lexer": "ipython3",
   "version": "3.6.5"
  }
 },
 "nbformat": 4,
 "nbformat_minor": 2
}
