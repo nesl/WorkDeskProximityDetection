{
 "cells": [
  {
   "cell_type": "code",
   "execution_count": 53,
   "metadata": {},
   "outputs": [
    {
     "name": "stdout",
     "output_type": "stream",
     "text": [
      "The autoreload extension is already loaded. To reload it, use:\n",
      "  %reload_ext autoreload\n"
     ]
    }
   ],
   "source": [
    "%matplotlib inline\n",
    "%load_ext autoreload\n",
    "%autoreload 2\n",
    "\n",
    "import warnings\n",
    "#warnings.simplefilter(\"ignore\", category=DeprecationWarning)\n",
    "#warnings.simplefilter(\"ignore\", category=PendingDeprecationWarning)\n",
    "#warnings.simplefilter(\"ignore\", category=ImportWarning)\n",
    "warnings.filterwarnings(\"ignore\")\n",
    "\n",
    "\n",
    "# Standard library imports.\n",
    "import os\n",
    "from datetime import timedelta, datetime\n",
    "import pprint\n",
    "import pickle\n",
    "import json\n",
    "from typing import List, Dict\n",
    "\n",
    "# Related third party imports.\n",
    "import matplotlib.pyplot as plt\n",
    "import numpy as np\n",
    "\n",
    "# Local application/library specific imports.\n",
    "from cerebralcortex.cerebralcortex import CerebralCortex\n",
    "from cerebralcortex.core.datatypes.datastream import DataPoint\n",
    "import utils\n",
    "import validation\n"
   ]
  },
  {
   "cell_type": "code",
   "execution_count": 48,
   "metadata": {},
   "outputs": [],
   "source": [
    "# Set important paths\n",
    "config_path = '../config/'\n",
    "data_path = '../data/'\n",
    "\n",
    "\n",
    "# Set target sensor streams and fileanames to be saved\n",
    "target_labels = ['ACTIVITY_TYPE--org.md2k.phonesensor--PHONE', \n",
    "                 'STEP_COUNT--org.md2k.phonesensor--PHONE', \n",
    "                 'ACCELEROMETER--org.md2k.phonesensor--PHONE',\n",
    "                 'GYROSCOPE--org.md2k.phonesensor--PHONE']\n",
    "target_filenames = ['act_type', 'step_cnt', 'accel', 'gyro']\n",
    "valid_func = [validation.validate_activity_type, \n",
    "              validation.validate_step_count, \n",
    "              validation.validate_accelerometer,\n",
    "              validation.validate_gyroscope]"
   ]
  },
  {
   "cell_type": "code",
   "execution_count": 21,
   "metadata": {},
   "outputs": [],
   "source": [
    "# Load all user IDs\n",
    "with open(config_path+'users.json', 'r') as f:\n",
    "    USR_IDS = json.load(f)\n",
    "\n",
    "# Load CerebralCortex Configurations\n",
    "CC = CerebralCortex(\"/home/mperf/sandeep/CerebralCortex-DockerCompose/cc_config_file/cc_vagrant_configuration.yml\")\n",
    "\n",
    "# Load GroundTruth\n",
    "at_desk = pickle.load(open(data_path+'at_desk_groundtruth.pkl', 'rb'))\n",
    "\n",
    "pp = pprint.PrettyPrinter(indent=2)"
   ]
  },
  {
   "cell_type": "markdown",
   "metadata": {},
   "source": [
    "# Create directories"
   ]
  },
  {
   "cell_type": "code",
   "execution_count": 49,
   "metadata": {},
   "outputs": [
    {
     "name": "stdout",
     "output_type": "stream",
     "text": [
      "Successfully created the directory ../data/00162d05-3248-4b7d-b4f6-8593b4faaa63 \n",
      "Successfully created the directory ../data/03996723-2411-4167-b14b-eb11dfc33124 \n",
      "Successfully created the directory ../data/00ab666c-afb8-476e-9872-6472b4e66b68 \n",
      "Successfully created the directory ../data/03c26210-7c9f-4bf2-b1c2-59d0bd64ffac \n",
      "Successfully created the directory ../data/022e4ff8-e1af-43dc-b747-862ac83518d2 \n",
      "Successfully created the directory ../data/03ec3750-641a-4039-8b5d-74b485bde1ea \n",
      "Successfully created the directory ../data/02e82ef0-acb8-4366-8c83-4c3f2f69f7ea \n",
      "Successfully created the directory ../data/0457f007-211c-4dc3-844e-47d724fece51 \n"
     ]
    }
   ],
   "source": [
    "# define the name of the directory to be created\n",
    "\n",
    "for usr_id in USR_IDS:\n",
    "    path = data_path + usr_id\n",
    "    try:  \n",
    "        os.mkdir(path)\n",
    "    except OSError:  \n",
    "        print (\"Creation of the directory %s failed. Already Existed.\" % path)\n",
    "    else:  \n",
    "        print (\"Successfully created the directory %s \" % path)"
   ]
  },
  {
   "cell_type": "markdown",
   "metadata": {},
   "source": [
    "# Filter out useless stream days"
   ]
  },
  {
   "cell_type": "code",
   "execution_count": 34,
   "metadata": {},
   "outputs": [],
   "source": [
    "def get_dates(streams):\n",
    "    results = set()\n",
    "    for stream in streams:\n",
    "        results.add(stream[0].date().strftime('%Y%m%d'))\n",
    "        results.add(stream[1].date().strftime('%Y%m%d'))\n",
    "    return sorted(list(results))\n",
    "\n",
    "def remove_useless_days(at_desk_days, stream_days):\n",
    "    results = list()\n",
    "    if not at_desk_days:\n",
    "        return results\n",
    "    if not stream_days:\n",
    "        return results\n",
    "    \n",
    "    for at_desk_day in at_desk_days:\n",
    "        if at_desk_day in stream_days:\n",
    "            results.append(at_desk_day)\n",
    "        else:\n",
    "            print('remove ' + at_desk_day)\n",
    "    return results\n",
    "    "
   ]
  },
  {
   "cell_type": "code",
   "execution_count": 54,
   "metadata": {
    "scrolled": false
   },
   "outputs": [
    {
     "name": "stdout",
     "output_type": "stream",
     "text": [
      "User 00162d05-3248-4b7d-b4f6-8593b4faaa63\n",
      "\tACTIVITY_TYPE--org.md2k.phonesensor--PHONE\n",
      "\tSTEP_COUNT--org.md2k.phonesensor--PHONE\n",
      "00162d05-3248-4b7d-b4f6-8593b4faaa63 does not have stream STEP_COUNT--org.md2k.phonesensor--PHONE\n",
      "\tACCELEROMETER--org.md2k.phonesensor--PHONE\n",
      "\tGYROSCOPE--org.md2k.phonesensor--PHONE\n",
      "User 03996723-2411-4167-b14b-eb11dfc33124\n",
      "\tACTIVITY_TYPE--org.md2k.phonesensor--PHONE\n",
      "\tSTEP_COUNT--org.md2k.phonesensor--PHONE\n",
      "\tACCELEROMETER--org.md2k.phonesensor--PHONE\n",
      "\tGYROSCOPE--org.md2k.phonesensor--PHONE\n",
      "User 00ab666c-afb8-476e-9872-6472b4e66b68\n",
      "\tACTIVITY_TYPE--org.md2k.phonesensor--PHONE\n",
      "remove 20171211\n",
      "\tSTEP_COUNT--org.md2k.phonesensor--PHONE\n",
      "remove 20171120\n",
      "remove 20171121\n",
      "remove 20171122\n",
      "remove 20171127\n",
      "remove 20171128\n",
      "remove 20171129\n",
      "remove 20171130\n",
      "remove 20171201\n",
      "remove 20171204\n",
      "remove 20171205\n",
      "remove 20171206\n",
      "remove 20171207\n",
      "remove 20171208\n",
      "remove 20171209\n",
      "remove 20171210\n",
      "\tACCELEROMETER--org.md2k.phonesensor--PHONE\n",
      "\tGYROSCOPE--org.md2k.phonesensor--PHONE\n",
      "User 03c26210-7c9f-4bf2-b1c2-59d0bd64ffac\n",
      "\tACTIVITY_TYPE--org.md2k.phonesensor--PHONE\n",
      "\tSTEP_COUNT--org.md2k.phonesensor--PHONE\n",
      "remove 20171212\n",
      "\tACCELEROMETER--org.md2k.phonesensor--PHONE\n",
      "\tGYROSCOPE--org.md2k.phonesensor--PHONE\n",
      "User 022e4ff8-e1af-43dc-b747-862ac83518d2\n",
      "\tACTIVITY_TYPE--org.md2k.phonesensor--PHONE\n",
      "remove 20171105\n",
      "\tSTEP_COUNT--org.md2k.phonesensor--PHONE\n",
      "\tACCELEROMETER--org.md2k.phonesensor--PHONE\n",
      "remove 20171211\n",
      "\tGYROSCOPE--org.md2k.phonesensor--PHONE\n",
      "User 03ec3750-641a-4039-8b5d-74b485bde1ea\n",
      "\tACTIVITY_TYPE--org.md2k.phonesensor--PHONE\n",
      "remove 20171104\n",
      "\tSTEP_COUNT--org.md2k.phonesensor--PHONE\n",
      "\tACCELEROMETER--org.md2k.phonesensor--PHONE\n",
      "\tGYROSCOPE--org.md2k.phonesensor--PHONE\n",
      "User 02e82ef0-acb8-4366-8c83-4c3f2f69f7ea\n",
      "\tACTIVITY_TYPE--org.md2k.phonesensor--PHONE\n",
      "\tSTEP_COUNT--org.md2k.phonesensor--PHONE\n",
      "\tACCELEROMETER--org.md2k.phonesensor--PHONE\n",
      "\tGYROSCOPE--org.md2k.phonesensor--PHONE\n",
      "User 0457f007-211c-4dc3-844e-47d724fece51\n",
      "\tACTIVITY_TYPE--org.md2k.phonesensor--PHONE\n",
      "\tSTEP_COUNT--org.md2k.phonesensor--PHONE\n",
      "\tACCELEROMETER--org.md2k.phonesensor--PHONE\n",
      "\tGYROSCOPE--org.md2k.phonesensor--PHONE\n"
     ]
    }
   ],
   "source": [
    "usr_work_days = dict()\n",
    "for usr_id in USR_IDS:\n",
    "    print('User '+usr_id)\n",
    "    usr_streams = CC.get_user_streams(usr_id)\n",
    "    at_desk_days = get_dates(at_desk[usr_id])\n",
    "    for lbl in target_labels:\n",
    "        print('\\t'+lbl)\n",
    "        try:\n",
    "            target_stream = usr_streams[lbl]  \n",
    "            # Enumerate stream id in target each stream\n",
    "            stream_days = list()\n",
    "            for stream_id in target_stream['stream_ids']:\n",
    "                stream_days.extend(CC.get_stream_days(stream_id))\n",
    "            at_desk_days = remove_useless_days(at_desk_days, stream_days)\n",
    "\n",
    "        except KeyError:\n",
    "            print(usr_id + \" does not have stream \" + lbl)\n",
    "    usr_work_days[usr_id] = at_desk_days\n",
    "    \n",
    "    # print(at_desk_days)\n",
    "with open(data_path+'usr_work_days.pkl', 'wb') as f:\n",
    "    pickle.dump(usr_work_days, f)"
   ]
  },
  {
   "cell_type": "code",
   "execution_count": 44,
   "metadata": {},
   "outputs": [
    {
     "name": "stdout",
     "output_type": "stream",
     "text": [
      "00162d05-3248-4b7d-b4f6-8593b4faaa63 0\n",
      "03996723-2411-4167-b14b-eb11dfc33124 34\n",
      "00ab666c-afb8-476e-9872-6472b4e66b68 25\n",
      "03c26210-7c9f-4bf2-b1c2-59d0bd64ffac 26\n",
      "022e4ff8-e1af-43dc-b747-862ac83518d2 25\n",
      "03ec3750-641a-4039-8b5d-74b485bde1ea 14\n",
      "02e82ef0-acb8-4366-8c83-4c3f2f69f7ea 42\n",
      "0457f007-211c-4dc3-844e-47d724fece51 9\n"
     ]
    }
   ],
   "source": [
    "for usr in usr_work_days:\n",
    "    print(usr, len(usr_work_days[usr]))"
   ]
  },
  {
   "cell_type": "code",
   "execution_count": null,
   "metadata": {
    "scrolled": false
   },
   "outputs": [
    {
     "name": "stdout",
     "output_type": "stream",
     "text": [
      "User 00162d05-3248-4b7d-b4f6-8593b4faaa63\n",
      "\tACTIVITY_TYPE--org.md2k.phonesensor--PHONE\n",
      "\tSTEP_COUNT--org.md2k.phonesensor--PHONE\n",
      "00162d05-3248-4b7d-b4f6-8593b4faaa63 does not have stream STEP_COUNT--org.md2k.phonesensor--PHONE\n",
      "\tACCELEROMETER--org.md2k.phonesensor--PHONE\n",
      "\tGYROSCOPE--org.md2k.phonesensor--PHONE\n",
      "User 03996723-2411-4167-b14b-eb11dfc33124\n",
      "\tACTIVITY_TYPE--org.md2k.phonesensor--PHONE\n",
      "\tSTEP_COUNT--org.md2k.phonesensor--PHONE\n",
      "\tACCELEROMETER--org.md2k.phonesensor--PHONE\n"
     ]
    }
   ],
   "source": [
    "for usr_id in USR_IDS:\n",
    "    print('User '+usr_id)\n",
    "    usr_streams = CC.get_user_streams(usr_id)\n",
    "    for lbl, fname, func in zip(target_labels, target_filenames, valid_func):\n",
    "        print('\\t'+lbl)\n",
    "        try:\n",
    "            target_stream = usr_streams[lbl]\n",
    "\n",
    "            # Enumerate stream id in target each stream\n",
    "            for stream_id in target_stream['stream_ids']:\n",
    "                stream_days = CC.get_stream_days(stream_id)\n",
    "\n",
    "                for i, stream_day in enumerate(stream_days):\n",
    "                    if stream_day in usr_work_days[usr_id]:\n",
    "                        #print(stream_day)\n",
    "                        ds = CC.get_stream(stream_id, usr_id, stream_day) \n",
    "                        data = func(ds.data)\n",
    "                        data.sort()\n",
    "                        np.savez(data_path+usr_id+'/'+fname+stream_day, utils.to_numpy_array(data))\n",
    "        except KeyError:\n",
    "            print(usr_id + \" does not have stream \" + lbl)\n",
    "     \n",
    "\n",
    "    #left_accel[usr_id] = utils.extract_all_data(CC, usr_id, 'ACCELEROMETER--org.md2k.motionsense--MOTION_SENSE_HRV--LEFT_WRIST')\n",
    "    #left_gyro[usr_id] = utils.extract_all_data(CC, usr_id, 'GYROSCOPE--org.md2k.motionsense--MOTION_SENSE_HRV--LEFT_WRIST')"
   ]
  },
  {
   "cell_type": "code",
   "execution_count": null,
   "metadata": {},
   "outputs": [],
   "source": []
  }
 ],
 "metadata": {
  "kernelspec": {
   "display_name": "Python [conda env:myenv]",
   "language": "python",
   "name": "conda-env-myenv-py"
  },
  "language_info": {
   "codemirror_mode": {
    "name": "ipython",
    "version": 3
   },
   "file_extension": ".py",
   "mimetype": "text/x-python",
   "name": "python",
   "nbconvert_exporter": "python",
   "pygments_lexer": "ipython3",
   "version": "3.6.5"
  }
 },
 "nbformat": 4,
 "nbformat_minor": 2
}
