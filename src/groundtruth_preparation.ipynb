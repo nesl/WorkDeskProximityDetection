{
 "cells": [
  {
   "cell_type": "code",
   "execution_count": 1,
   "metadata": {
    "nbpresent": {
     "id": "1893173a-7611-43ca-8a2d-9509d0546da6"
    }
   },
   "outputs": [],
   "source": [
    "%matplotlib inline\n",
    "%load_ext autoreload\n",
    "%autoreload 2\n",
    "\n",
    "import warnings\n",
    "warnings.simplefilter(\"ignore\", category=DeprecationWarning)\n",
    "warnings.simplefilter(\"ignore\", category=PendingDeprecationWarning)\n",
    "warnings.simplefilter(\"ignore\", category=ImportWarning)\n",
    "warnings.filterwarnings(\"ignore\")\n",
    "\n",
    "\n",
    "# Standard library imports.\n",
    "from datetime import timedelta, datetime\n",
    "import pprint\n",
    "import pickle\n",
    "import json\n",
    "from typing import List\n",
    "\n",
    "# Related third party imports.\n",
    "import matplotlib.pyplot as plt\n",
    "import numpy as np\n",
    "\n",
    "# Local application/library specific imports.\n",
    "from cerebralcortex.cerebralcortex import CerebralCortex\n",
    "import utils\n",
    "import validation"
   ]
  },
  {
   "cell_type": "code",
   "execution_count": 2,
   "metadata": {
    "nbpresent": {
     "id": "932c7732-3cbe-428a-8da4-794db168dd6a"
    }
   },
   "outputs": [],
   "source": [
    "# Load all user IDs\n",
    "config_path = '../config/'\n",
    "with open(config_path+'users.json', 'r') as f:\n",
    "    USR_IDS = json.load(f)\n",
    "\n",
    "\n",
    "# Load CerebralCortex Configurations\n",
    "CC = CerebralCortex(\"/home/mperf/sandeep/CerebralCortex-DockerCompose/cc_config_file/cc_vagrant_configuration.yml\")\n",
    "\n",
    "pp = pprint.PrettyPrinter(indent=2)"
   ]
  },
  {
   "cell_type": "markdown",
   "metadata": {},
   "source": [
    "# Extract working beacon data "
   ]
  },
  {
   "cell_type": "code",
   "execution_count": 4,
   "metadata": {
    "nbpresent": {
     "id": "046dcdc6-7ba4-4e32-84ff-69e00b2d33b4"
    },
    "scrolled": false
   },
   "outputs": [
    {
     "name": "stderr",
     "output_type": "stream",
     "text": [
      "/home/mperf/sandeep/CerebralCortex/cerebralcortex/cerebralcortex.py:189: DeprecationWarning: PLEASE USE stream_ids KEY IN DICT OBJECT TO GET ALL STREAM IDS OF A STREAM NAME. Identifier key will be removed in CerebralCortex version 2.2.4.\n",
      "  warnings.warn(\"PLEASE USE stream_ids KEY IN DICT OBJECT TO GET ALL STREAM IDS OF A STREAM NAME. Identifier key will be removed in CerebralCortex version 2.2.4.\", DeprecationWarning)\n",
      "/home/mperf/sandeep/CerebralCortex/cerebralcortex/cerebralcortex.py:189: DeprecationWarning: PLEASE USE stream_ids KEY IN DICT OBJECT TO GET ALL STREAM IDS OF A STREAM NAME. Identifier key will be removed in CerebralCortex version 2.2.4.\n",
      "  warnings.warn(\"PLEASE USE stream_ids KEY IN DICT OBJECT TO GET ALL STREAM IDS OF A STREAM NAME. Identifier key will be removed in CerebralCortex version 2.2.4.\", DeprecationWarning)\n",
      "/home/mperf/sandeep/CerebralCortex/cerebralcortex/cerebralcortex.py:189: DeprecationWarning: PLEASE USE stream_ids KEY IN DICT OBJECT TO GET ALL STREAM IDS OF A STREAM NAME. Identifier key will be removed in CerebralCortex version 2.2.4.\n",
      "  warnings.warn(\"PLEASE USE stream_ids KEY IN DICT OBJECT TO GET ALL STREAM IDS OF A STREAM NAME. Identifier key will be removed in CerebralCortex version 2.2.4.\", DeprecationWarning)\n",
      "/home/mperf/sandeep/CerebralCortex/cerebralcortex/cerebralcortex.py:189: DeprecationWarning: PLEASE USE stream_ids KEY IN DICT OBJECT TO GET ALL STREAM IDS OF A STREAM NAME. Identifier key will be removed in CerebralCortex version 2.2.4.\n",
      "  warnings.warn(\"PLEASE USE stream_ids KEY IN DICT OBJECT TO GET ALL STREAM IDS OF A STREAM NAME. Identifier key will be removed in CerebralCortex version 2.2.4.\", DeprecationWarning)\n",
      "/home/mperf/sandeep/CerebralCortex/cerebralcortex/cerebralcortex.py:189: DeprecationWarning: PLEASE USE stream_ids KEY IN DICT OBJECT TO GET ALL STREAM IDS OF A STREAM NAME. Identifier key will be removed in CerebralCortex version 2.2.4.\n",
      "  warnings.warn(\"PLEASE USE stream_ids KEY IN DICT OBJECT TO GET ALL STREAM IDS OF A STREAM NAME. Identifier key will be removed in CerebralCortex version 2.2.4.\", DeprecationWarning)\n",
      "/home/mperf/sandeep/CerebralCortex/cerebralcortex/cerebralcortex.py:189: DeprecationWarning: PLEASE USE stream_ids KEY IN DICT OBJECT TO GET ALL STREAM IDS OF A STREAM NAME. Identifier key will be removed in CerebralCortex version 2.2.4.\n",
      "  warnings.warn(\"PLEASE USE stream_ids KEY IN DICT OBJECT TO GET ALL STREAM IDS OF A STREAM NAME. Identifier key will be removed in CerebralCortex version 2.2.4.\", DeprecationWarning)\n",
      "/home/mperf/sandeep/CerebralCortex/cerebralcortex/cerebralcortex.py:189: DeprecationWarning: PLEASE USE stream_ids KEY IN DICT OBJECT TO GET ALL STREAM IDS OF A STREAM NAME. Identifier key will be removed in CerebralCortex version 2.2.4.\n",
      "  warnings.warn(\"PLEASE USE stream_ids KEY IN DICT OBJECT TO GET ALL STREAM IDS OF A STREAM NAME. Identifier key will be removed in CerebralCortex version 2.2.4.\", DeprecationWarning)\n",
      "/home/mperf/sandeep/CerebralCortex/cerebralcortex/cerebralcortex.py:189: DeprecationWarning: PLEASE USE stream_ids KEY IN DICT OBJECT TO GET ALL STREAM IDS OF A STREAM NAME. Identifier key will be removed in CerebralCortex version 2.2.4.\n",
      "  warnings.warn(\"PLEASE USE stream_ids KEY IN DICT OBJECT TO GET ALL STREAM IDS OF A STREAM NAME. Identifier key will be removed in CerebralCortex version 2.2.4.\", DeprecationWarning)\n"
     ]
    }
   ],
   "source": [
    "id_to_work_bcn = dict() # Dictionary: usr_id -> list of datapoints\n",
    "\n",
    "for usr_id in USR_IDS:\n",
    "\n",
    "    id_to_work_bcn[usr_id] = []\n",
    "    usr_streams = CC.get_user_streams(usr_id)\n",
    "    stream_labels = list(usr_streams.keys())\n",
    "\n",
    "    # Get beacon stream at work place\n",
    "    work_bcn_stream_labels = utils.extract_matched_labels(stream_labels, ['BEACON', 'WORK'])\n",
    "\n",
    "    if work_bcn_stream_labels:\n",
    "        work_bcn_stream = usr_streams[work_bcn_stream_labels[0]]\n",
    "        \n",
    "        # Enumerate stream id in each ble beacon stream\n",
    "        for stream_id in work_bcn_stream['stream_ids']:\n",
    "            stream_days = CC.get_stream_days(stream_id)\n",
    "            \n",
    "            # Get all work beacon data from a user \n",
    "            for i, stream_day in enumerate(stream_days):\n",
    "                ds = CC.get_stream(stream_id, usr_id, stream_day)\n",
    "                id_to_work_bcn[usr_id].extend(ds.data)\n",
    "    id_to_work_bcn[usr_id].sort() # Sort the user's beacon in chronological order \n"
   ]
  },
  {
   "cell_type": "markdown",
   "metadata": {},
   "source": [
    "# Check beacon data validity"
   ]
  },
  {
   "cell_type": "code",
   "execution_count": 5,
   "metadata": {},
   "outputs": [
    {
     "name": "stdout",
     "output_type": "stream",
     "text": [
      "---- User 00162d05-3248-4b7d-b4f6-8593b4faaa63 ----\n",
      "Beacon stream length before 0\n",
      "Beacon stream length after 0\n",
      "\n",
      "\n",
      "---- User 03996723-2411-4167-b14b-eb11dfc33124 ----\n",
      "Beacon stream length before 23561\n",
      "Beacon stream length after 23419\n",
      "\n",
      "\n",
      "---- User 00ab666c-afb8-476e-9872-6472b4e66b68 ----\n",
      "Beacon stream length before 13976023\n",
      "Beacon stream length after 1960532\n",
      "\n",
      "\n",
      "---- User 03c26210-7c9f-4bf2-b1c2-59d0bd64ffac ----\n",
      "Beacon stream length before 21970\n",
      "Beacon stream length after 21758\n",
      "\n",
      "\n",
      "---- User 022e4ff8-e1af-43dc-b747-862ac83518d2 ----\n",
      "Beacon stream length before 22168\n",
      "Beacon stream length after 22039\n",
      "\n",
      "\n",
      "---- User 03ec3750-641a-4039-8b5d-74b485bde1ea ----\n",
      "Beacon stream length before 12889\n",
      "Beacon stream length after 12869\n",
      "\n",
      "\n",
      "---- User 02e82ef0-acb8-4366-8c83-4c3f2f69f7ea ----\n",
      "Beacon stream length before 41759\n",
      "Beacon stream length after 41734\n",
      "\n",
      "\n",
      "---- User 0457f007-211c-4dc3-844e-47d724fece51 ----\n",
      "Beacon stream length before 3348\n",
      "Beacon stream length after 3345\n",
      "\n",
      "\n"
     ]
    }
   ],
   "source": [
    "for usr_id in USR_IDS:\n",
    "    work_bcns = id_to_work_bcn[usr_id]\n",
    "    old_len = len(work_bcns)\n",
    "    work_bcns = validation.validate_beacon(work_bcns)\n",
    "    new_len = len(work_bcns)\n",
    "    \n",
    "    id_to_work_bcn[usr_id] = work_bcns\n",
    "    \n",
    "    print('---- User {} ----'.format( usr_id))\n",
    "    print('Beacon stream length before', old_len)\n",
    "    print('Beacon stream length after', new_len)\n",
    "    print('\\n')"
   ]
  },
  {
   "cell_type": "markdown",
   "metadata": {},
   "source": [
    "# Extract groundtrtuth from working beacon data"
   ]
  },
  {
   "cell_type": "code",
   "execution_count": 6,
   "metadata": {},
   "outputs": [],
   "source": [
    "# distance threshold value in meter for a beacon to be considered as valid.\n",
    "dist_th = 2.0 \n",
    "\n",
    "def dist_filter(bcns, dist_th) -> List:\n",
    "    results = list()\n",
    "    for bcn in bcns:\n",
    "        dist = bcn.sample[0]\n",
    "        if dist <= dist_th:\n",
    "            results.append(bcn)\n",
    "    print('Before dist filter:', len(bcns))\n",
    "    print('After dist filter:', len(results))\n",
    "    \n",
    "    return results"
   ]
  },
  {
   "cell_type": "code",
   "execution_count": 9,
   "metadata": {
    "nbpresent": {
     "id": "5b183ed3-0c60-45cf-b5d7-f83bb562be60"
    },
    "scrolled": false
   },
   "outputs": [
    {
     "name": "stdout",
     "output_type": "stream",
     "text": [
      "Before dist filter: 0\n",
      "After dist filter: 0\n",
      "Before dist filter: 23419\n",
      "After dist filter: 19947\n",
      "Before dist filter: 1960532\n",
      "After dist filter: 408922\n",
      "Before dist filter: 21758\n",
      "After dist filter: 13963\n",
      "Before dist filter: 22039\n",
      "After dist filter: 13862\n",
      "Before dist filter: 12869\n",
      "After dist filter: 10428\n",
      "Before dist filter: 41734\n",
      "After dist filter: 34331\n",
      "Before dist filter: 3345\n",
      "After dist filter: 3128\n"
     ]
    }
   ],
   "source": [
    "import pdb\n",
    "\n",
    "# key: usr_id, value: list of (start time: datetime, end time: datetime)\n",
    "at_desk = dict()\n",
    "\n",
    "# time difference threshold value in second for two consecutive beacons to be considered as a stream.\n",
    "tdf_th = 25.0\n",
    "\n",
    "\n",
    "\n",
    "for usr_id in USR_IDS:\n",
    "    work_bcns = id_to_work_bcn[usr_id]\n",
    "    at_desk[usr_id] = list()\n",
    "     \n",
    "    work_bcns = dist_filter(work_bcns, dist_th) # Filter out beacon with distance\n",
    "  \n",
    "    start_bcn = None\n",
    "    prev_bcn = None\n",
    "    for bcn in work_bcns:\n",
    "        \n",
    "        if start_bcn is None:\n",
    "            start_bcn = bcn\n",
    "        if prev_bcn is None:\n",
    "            prev_bcn = bcn\n",
    "\n",
    "        # Time gap between current bcn and prev bcn\n",
    "        tdf = bcn.start_time - prev_bcn.start_time\n",
    "        \n",
    "        if tdf.total_seconds() > tdf_th:\n",
    "            # Current beacon is too long time away from previous beacon\n",
    "            # Save the stream\n",
    "            start_time = start_bcn.start_time\n",
    "            end_time = prev_bcn.start_time\n",
    "            if start_time == end_time:\n",
    "                at_desk[usr_id].append((start_time - timedelta(seconds=tdf_th/2.0),\n",
    "                                        end_time + timedelta(seconds=tdf_th/2.0)))\n",
    "            else:\n",
    "                at_desk[usr_id].append((start_time, end_time))\n",
    "            \n",
    "            # Start a new stream\n",
    "            start_bcn = bcn\n",
    "\n",
    "        prev_bcn = bcn\n",
    "     "
   ]
  },
  {
   "cell_type": "markdown",
   "metadata": {},
   "source": [
    "# Save processed raw data and groundtruth"
   ]
  },
  {
   "cell_type": "code",
   "execution_count": 12,
   "metadata": {},
   "outputs": [],
   "source": [
    "path = '../data/'\n",
    "with open(path+'work_bcn.pkl', 'wb') as f:\n",
    "    pickle.dump(id_to_work_bcn, f)\n",
    "with open(path+'at_desk_groundtruth.pkl', 'wb') as f:\n",
    "    pickle.dump(at_desk, f)"
   ]
  },
  {
   "cell_type": "code",
   "execution_count": 11,
   "metadata": {},
   "outputs": [],
   "source": [
    "# for i, usr_id in enumerate(at_desk.keys()):\n",
    "#     print('------------usr %d----------' % i)\n",
    "#     for bcn_pair in at_desk[usr_id]:\n",
    "#         #print(bcn_pair)\n",
    "#         tdf = bcn_pair[1] - bcn_pair[0]\n",
    "#         print(tdf.total_seconds())"
   ]
  }
 ],
 "metadata": {
  "kernelspec": {
   "display_name": "Python [conda env:myenv]",
   "language": "python",
   "name": "conda-env-myenv-py"
  },
  "language_info": {
   "codemirror_mode": {
    "name": "ipython",
    "version": 3
   },
   "file_extension": ".py",
   "mimetype": "text/x-python",
   "name": "python",
   "nbconvert_exporter": "python",
   "pygments_lexer": "ipython3",
   "version": "3.6.5"
  }
 },
 "nbformat": 4,
 "nbformat_minor": 2
}
