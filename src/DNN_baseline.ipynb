{
 "cells": [
  {
   "cell_type": "code",
   "execution_count": 129,
   "metadata": {},
   "outputs": [],
   "source": [
    "import numpy as np\n",
    "import tensorflow as tf\n",
    "from tensorflow import keras\n",
    "from sklearn.preprocessing import normalize\n",
    "from sklearn.metrics import confusion_matrix, accuracy_score\n",
    "from sklearn.decomposition import PCA\n",
    "from scipy import stats\n",
    "import matplotlib.pyplot as plt"
   ]
  },
  {
   "cell_type": "markdown",
   "metadata": {},
   "source": [
    "# Load features and labels"
   ]
  },
  {
   "cell_type": "code",
   "execution_count": 96,
   "metadata": {},
   "outputs": [
    {
     "name": "stdout",
     "output_type": "stream",
     "text": [
      "Feature matrix shape: (128699, 170)\n",
      "Label matrix shape: (128699,)\n"
     ]
    }
   ],
   "source": [
    "feature_path = '../data/03996723-2411-4167-b14b-eb11dfc33124/features.npy'\n",
    "label_path = '../data/03996723-2411-4167-b14b-eb11dfc33124/labels.npy'\n",
    "features = np.load(feature_path)\n",
    "labels = stats.mode(np.load(label_path), axis=1)[0][:, 0]\n",
    "\n",
    "print('Feature matrix shape:', features.shape)\n",
    "print('Label matrix shape:', labels.shape)"
   ]
  },
  {
   "cell_type": "code",
   "execution_count": 97,
   "metadata": {},
   "outputs": [
    {
     "name": "stdout",
     "output_type": "stream",
     "text": [
      "{0.0: 99967, 1.0: 28732}\n"
     ]
    }
   ],
   "source": [
    "unique, counts = np.unique(labels, return_counts=True)\n",
    "print(dict(zip(unique, counts)))"
   ]
  },
  {
   "cell_type": "markdown",
   "metadata": {},
   "source": [
    "# Balance classes and normailze feature matrix"
   ]
  },
  {
   "cell_type": "code",
   "execution_count": 98,
   "metadata": {},
   "outputs": [
    {
     "name": "stdout",
     "output_type": "stream",
     "text": [
      "Feature matrix shape: (57464, 170)\n",
      "Label matrix shape: (57464,)\n"
     ]
    }
   ],
   "source": [
    "zero_indices = np.where(labels==0)[0]\n",
    "one_indices = np.where(labels==1)[0]\n",
    "\n",
    "zero_indices = np.random.choice(zero_indices, size=one_indices.shape[0], replace=False)\n",
    "\n",
    "indices = np.hstack((zero_indices, one_indices))\n",
    "\n",
    "np.random.shuffle(indices)\n",
    "\n",
    "new_labels = labels[indices]\n",
    "new_features = normalize(features[indices])\n",
    "print('Feature matrix shape:', new_features.shape)\n",
    "print('Label matrix shape:', new_labels.shape)"
   ]
  },
  {
   "cell_type": "markdown",
   "metadata": {},
   "source": [
    "# Create train set, validation set, and test set"
   ]
  },
  {
   "cell_type": "code",
   "execution_count": 120,
   "metadata": {},
   "outputs": [
    {
     "name": "stdout",
     "output_type": "stream",
     "text": [
      "train data shape: (45971, 170)\n",
      "train label shape: (45971, 2)\n",
      "test data shape: (11493, 170)\n",
      "test label shape: (11493,)\n"
     ]
    }
   ],
   "source": [
    "num_classes = 2\n",
    "split_idx = int(new_features.shape[0] * 0.80)\n",
    "\n",
    "X_train = new_features[:split_idx]\n",
    "Y_train = new_labels[:split_idx]\n",
    "\n",
    "X_test = new_features[split_idx:]\n",
    "Y_test = new_labels[split_idx:]\n",
    "\n",
    "Y_train = keras.utils.to_categorical(Y_train, num_classes)\n",
    "#Y_val = keras.utils.to_categorical(Y_val, num_classes)\n",
    "\n",
    "print('train data shape:', X_train.shape)\n",
    "print('train label shape:', Y_train.shape)\n",
    "#print('val data shape:', X_val.shape)\n",
    "#print('val label shape:', Y_val.shape)\n",
    "print('test data shape:', X_test.shape)\n",
    "print('test label shape:', Y_test.shape)"
   ]
  },
  {
   "cell_type": "markdown",
   "metadata": {},
   "source": [
    "# PCA"
   ]
  },
  {
   "cell_type": "code",
   "execution_count": 121,
   "metadata": {},
   "outputs": [
    {
     "data": {
      "text/plain": [
       "<matplotlib.legend.Legend at 0x7f5ef5eadc50>"
      ]
     },
     "execution_count": 121,
     "metadata": {},
     "output_type": "execute_result"
    },
    {
     "data": {
      "image/png": "[encoded data removed]",
      "text/plain": [
       "<Figure size 432x288 with 1 Axes>"
      ]
     },
     "metadata": {},
     "output_type": "display_data"
    }
   ],
   "source": [
    "\n",
    "\n",
    "#25% of the data is reserved for testing. This is done for the normalized matrix as well.\n",
    "#feat_train, feat_test, lbl_train, lbl_test = train_test_split(feat_matrix, lbl_vector, test_size=0.25, random_state=42)\n",
    "#scale_feat_train, scale_feat_test, scale_lbl_train, scale_lbl_test = train_test_split(scale_feat_matrix, lbl_vector, test_size=0.25, random_state=42)\n",
    "\n",
    "\n",
    "#PCA is applied to the normalized matrix so it can be compared to the standard matrix in a graph.\n",
    "pca_norm = PCA(n_components=170, svd_solver='randomized', whiten=True).fit(X_train)\n",
    "plt.plot(np.cumsum(pca_norm.explained_variance_ratio_), label='Normalized')\n",
    "\n",
    "#Labeling the graph.\n",
    "plt.xlabel('First n-components')\n",
    "plt.title('Variance ratio of first n-components')\n",
    "plt.axis([-3, 114, .8, 1.01])\n",
    "# plt.axis([0, 111, 1-1e-13, 1+1e-13])\n",
    "plt.legend()"
   ]
  },
  {
   "cell_type": "code",
   "execution_count": 122,
   "metadata": {},
   "outputs": [],
   "source": [
    "#Using the graph as reference, 10 is chosen for n_components.\n",
    "pca = PCA(n_components=15, svd_solver='randomized', whiten=True).fit(X_train)\n",
    "\n",
    "X_train = pca.transform(X_train)\n",
    "X_test = pca.transform(X_test)"
   ]
  },
  {
   "cell_type": "markdown",
   "metadata": {},
   "source": [
    "# Create MLP classifier"
   ]
  },
  {
   "cell_type": "code",
   "execution_count": 131,
   "metadata": {},
   "outputs": [
    {
     "name": "stdout",
     "output_type": "stream",
     "text": [
      "_________________________________________________________________\n",
      "Layer (type)                 Output Shape              Param #   \n",
      "=================================================================\n",
      "dense_73 (Dense)             (None, 256)               4096      \n",
      "_________________________________________________________________\n",
      "dense_74 (Dense)             (None, 128)               32896     \n",
      "_________________________________________________________________\n",
      "dropout_35 (Dropout)         (None, 128)               0         \n",
      "_________________________________________________________________\n",
      "dense_75 (Dense)             (None, 64)                8256      \n",
      "_________________________________________________________________\n",
      "dropout_36 (Dropout)         (None, 64)                0         \n",
      "_________________________________________________________________\n",
      "dense_76 (Dense)             (None, 64)                4160      \n",
      "_________________________________________________________________\n",
      "dense_77 (Dense)             (None, 2)                 130       \n",
      "=================================================================\n",
      "Total params: 49,538\n",
      "Trainable params: 49,538\n",
      "Non-trainable params: 0\n",
      "_________________________________________________________________\n"
     ]
    },
    {
     "name": "stderr",
     "output_type": "stream",
     "text": [
      "/home/mperf/anaconda3/envs/myenv/lib/python3.6/site-packages/tensorflow/python/util/tf_inspect.py:75: DeprecationWarning: inspect.getargspec() is deprecated, use inspect.signature() or inspect.getfullargspec()\n",
      "  return _inspect.getargspec(target)\n"
     ]
    }
   ],
   "source": [
    "p = 0.3\n",
    "model = keras.Sequential()\n",
    "# Adds a densely-connected layer with 64 units to the model:\n",
    "model.add(keras.layers.Dense(units=256, \n",
    "                             activation='relu', \n",
    "                             input_dim=X_train.shape[1]))\n",
    "model.add(keras.layers.Dense(units=128, \n",
    "                             activation='relu', \n",
    "                             input_dim=X_train.shape[1]))\n",
    "# Add another:\n",
    "model.add(keras.layers.Dropout(p))\n",
    "model.add(keras.layers.Dense(units=64, activation='relu',\n",
    "                             kernel_regularizer=keras.regularizers.l2(0.001)))\n",
    "model.add(keras.layers.Dropout(p))\n",
    "model.add(keras.layers.Dense(units=64, activation='relu'))\n",
    "\n",
    "# Add a softmax layer with 10 output units:\n",
    "model.add(keras.layers.Dense(units=2, activation='softmax'))\n",
    "\n",
    "model.summary()"
   ]
  },
  {
   "cell_type": "markdown",
   "metadata": {},
   "source": [
    "# Train the model"
   ]
  },
  {
   "cell_type": "code",
   "execution_count": 132,
   "metadata": {
    "scrolled": true
   },
   "outputs": [
    {
     "name": "stderr",
     "output_type": "stream",
     "text": [
      "/home/mperf/anaconda3/envs/myenv/lib/python3.6/site-packages/tensorflow/python/util/tf_inspect.py:75: DeprecationWarning: inspect.getargspec() is deprecated, use inspect.signature() or inspect.getfullargspec()\n",
      "  return _inspect.getargspec(target)\n"
     ]
    },
    {
     "name": "stdout",
     "output_type": "stream",
     "text": [
      "Train on 36776 samples, validate on 9195 samples\n",
      "Epoch 1/100\n",
      "36776/36776 [==============================] - 2s 49us/step - loss: 0.6812 - acc: 0.6556 - val_loss: 0.6311 - val_acc: 0.6798\n",
      "\n",
      "Epoch 00001: val_acc improved from -inf to 0.67983, saving model to ./DNN_Model-10Second\n",
      "Epoch 2/100\n",
      "36776/36776 [==============================] - 0s 9us/step - loss: 0.6253 - acc: 0.6860 - val_loss: 0.5958 - val_acc: 0.7108\n",
      "\n",
      "Epoch 00002: val_acc improved from 0.67983 to 0.71082, saving model to ./DNN_Model-10Second\n",
      "Epoch 3/100\n",
      "36776/36776 [==============================] - 0s 9us/step - loss: 0.5944 - acc: 0.6996 - val_loss: 0.5722 - val_acc: 0.7066\n",
      "\n",
      "Epoch 00003: val_acc did not improve from 0.71082\n",
      "Epoch 4/100\n",
      "36776/36776 [==============================] - 0s 9us/step - loss: 0.5751 - acc: 0.7093 - val_loss: 0.5574 - val_acc: 0.7338\n",
      "\n",
      "Epoch 00004: val_acc improved from 0.71082 to 0.73377, saving model to ./DNN_Model-10Second\n",
      "Epoch 5/100\n",
      "36776/36776 [==============================] - 0s 9us/step - loss: 0.5614 - acc: 0.7184 - val_loss: 0.5448 - val_acc: 0.7317\n",
      "\n",
      "Epoch 00005: val_acc did not improve from 0.73377\n",
      "Epoch 6/100\n",
      "36776/36776 [==============================] - 0s 9us/step - loss: 0.5515 - acc: 0.7231 - val_loss: 0.5368 - val_acc: 0.7399\n",
      "\n",
      "Epoch 00006: val_acc improved from 0.73377 to 0.73986, saving model to ./DNN_Model-10Second\n",
      "Epoch 7/100\n",
      "36776/36776 [==============================] - 0s 9us/step - loss: 0.5404 - acc: 0.7304 - val_loss: 0.5294 - val_acc: 0.7402\n",
      "\n",
      "Epoch 00007: val_acc improved from 0.73986 to 0.74018, saving model to ./DNN_Model-10Second\n",
      "Epoch 8/100\n",
      "36776/36776 [==============================] - 0s 9us/step - loss: 0.5345 - acc: 0.7349 - val_loss: 0.5226 - val_acc: 0.7455\n",
      "\n",
      "Epoch 00008: val_acc improved from 0.74018 to 0.74551, saving model to ./DNN_Model-10Second\n",
      "Epoch 9/100\n",
      "36776/36776 [==============================] - 0s 9us/step - loss: 0.5280 - acc: 0.7388 - val_loss: 0.5212 - val_acc: 0.7361\n",
      "\n",
      "Epoch 00009: val_acc did not improve from 0.74551\n",
      "Epoch 10/100\n",
      "36776/36776 [==============================] - 0s 9us/step - loss: 0.5235 - acc: 0.7387 - val_loss: 0.5181 - val_acc: 0.7457\n",
      "\n",
      "Epoch 00010: val_acc improved from 0.74551 to 0.74573, saving model to ./DNN_Model-10Second\n",
      "Epoch 11/100\n",
      "36776/36776 [==============================] - 0s 9us/step - loss: 0.5204 - acc: 0.7419 - val_loss: 0.5123 - val_acc: 0.7407\n",
      "\n",
      "Epoch 00011: val_acc did not improve from 0.74573\n",
      "Epoch 12/100\n",
      "36776/36776 [==============================] - 0s 9us/step - loss: 0.5175 - acc: 0.7415 - val_loss: 0.5140 - val_acc: 0.7455\n",
      "\n",
      "Epoch 00012: val_acc did not improve from 0.74573\n",
      "Epoch 13/100\n",
      "36776/36776 [==============================] - 0s 9us/step - loss: 0.5155 - acc: 0.7426 - val_loss: 0.5066 - val_acc: 0.7469\n",
      "\n",
      "Epoch 00013: val_acc improved from 0.74573 to 0.74693, saving model to ./DNN_Model-10Second\n",
      "Epoch 14/100\n",
      "36776/36776 [==============================] - 0s 9us/step - loss: 0.5097 - acc: 0.7470 - val_loss: 0.5017 - val_acc: 0.7539\n",
      "\n",
      "Epoch 00014: val_acc improved from 0.74693 to 0.75389, saving model to ./DNN_Model-10Second\n",
      "Epoch 15/100\n",
      "36776/36776 [==============================] - 0s 9us/step - loss: 0.5075 - acc: 0.7480 - val_loss: 0.5031 - val_acc: 0.7499\n",
      "\n",
      "Epoch 00015: val_acc did not improve from 0.75389\n",
      "Epoch 16/100\n",
      "36776/36776 [==============================] - 0s 9us/step - loss: 0.5095 - acc: 0.7450 - val_loss: 0.5008 - val_acc: 0.7495\n",
      "\n",
      "Epoch 00016: val_acc did not improve from 0.75389\n",
      "Epoch 17/100\n",
      "36776/36776 [==============================] - 0s 9us/step - loss: 0.5022 - acc: 0.7516 - val_loss: 0.4985 - val_acc: 0.7544\n",
      "\n",
      "Epoch 00017: val_acc improved from 0.75389 to 0.75443, saving model to ./DNN_Model-10Second\n",
      "Epoch 18/100\n",
      "36776/36776 [==============================] - 0s 9us/step - loss: 0.5002 - acc: 0.7517 - val_loss: 0.4990 - val_acc: 0.7529\n",
      "\n",
      "Epoch 00018: val_acc did not improve from 0.75443\n",
      "Epoch 19/100\n",
      "36776/36776 [==============================] - 0s 9us/step - loss: 0.5006 - acc: 0.7505 - val_loss: 0.4956 - val_acc: 0.7549\n",
      "\n",
      "Epoch 00019: val_acc improved from 0.75443 to 0.75487, saving model to ./DNN_Model-10Second\n",
      "Epoch 20/100\n",
      "36776/36776 [==============================] - 0s 9us/step - loss: 0.4997 - acc: 0.7529 - val_loss: 0.5025 - val_acc: 0.7446\n",
      "\n",
      "Epoch 00020: val_acc did not improve from 0.75487\n",
      "Epoch 21/100\n",
      "36776/36776 [==============================] - 0s 9us/step - loss: 0.4972 - acc: 0.7532 - val_loss: 0.4963 - val_acc: 0.7535\n",
      "\n",
      "Epoch 00021: val_acc did not improve from 0.75487\n",
      "Epoch 22/100\n",
      "36776/36776 [==============================] - 0s 9us/step - loss: 0.4967 - acc: 0.7510 - val_loss: 0.4984 - val_acc: 0.7517\n",
      "\n",
      "Epoch 00022: val_acc did not improve from 0.75487\n",
      "Epoch 23/100\n",
      "36776/36776 [==============================] - 0s 9us/step - loss: 0.4952 - acc: 0.7526 - val_loss: 0.4908 - val_acc: 0.7585\n",
      "\n",
      "Epoch 00023: val_acc improved from 0.75487 to 0.75846, saving model to ./DNN_Model-10Second\n",
      "Epoch 24/100\n",
      "36776/36776 [==============================] - 0s 9us/step - loss: 0.4929 - acc: 0.7545 - val_loss: 0.4891 - val_acc: 0.7561\n",
      "\n",
      "Epoch 00024: val_acc did not improve from 0.75846\n",
      "Epoch 25/100\n",
      "36776/36776 [==============================] - 0s 9us/step - loss: 0.4955 - acc: 0.7533 - val_loss: 0.4943 - val_acc: 0.7554\n",
      "\n",
      "Epoch 00025: val_acc did not improve from 0.75846\n",
      "Epoch 26/100\n",
      "36776/36776 [==============================] - 0s 9us/step - loss: 0.4933 - acc: 0.7529 - val_loss: 0.4915 - val_acc: 0.7541\n",
      "\n",
      "Epoch 00026: val_acc did not improve from 0.75846\n",
      "Epoch 27/100\n",
      "36776/36776 [==============================] - 0s 9us/step - loss: 0.4895 - acc: 0.7565 - val_loss: 0.4883 - val_acc: 0.7573\n",
      "\n",
      "Epoch 00027: val_acc did not improve from 0.75846\n",
      "Epoch 28/100\n",
      "36776/36776 [==============================] - 0s 9us/step - loss: 0.4894 - acc: 0.7589 - val_loss: 0.4877 - val_acc: 0.7568\n",
      "\n",
      "Epoch 00028: val_acc did not improve from 0.75846\n",
      "Epoch 29/100\n",
      "36776/36776 [==============================] - 0s 9us/step - loss: 0.4871 - acc: 0.7575 - val_loss: 0.4879 - val_acc: 0.7573\n",
      "\n",
      "Epoch 00029: val_acc did not improve from 0.75846\n",
      "Epoch 30/100\n",
      "36776/36776 [==============================] - 0s 9us/step - loss: 0.4862 - acc: 0.7574 - val_loss: 0.4865 - val_acc: 0.7552\n",
      "\n",
      "Epoch 00030: val_acc did not improve from 0.75846\n",
      "Epoch 31/100\n",
      "36776/36776 [==============================] - 0s 9us/step - loss: 0.4848 - acc: 0.7586 - val_loss: 0.4896 - val_acc: 0.7610\n",
      "\n",
      "Epoch 00031: val_acc improved from 0.75846 to 0.76096, saving model to ./DNN_Model-10Second\n",
      "Epoch 32/100\n",
      "36776/36776 [==============================] - 0s 9us/step - loss: 0.4835 - acc: 0.7578 - val_loss: 0.4877 - val_acc: 0.7597\n",
      "\n",
      "Epoch 00032: val_acc did not improve from 0.76096\n",
      "Epoch 33/100\n",
      "36776/36776 [==============================] - 0s 9us/step - loss: 0.4828 - acc: 0.7586 - val_loss: 0.4876 - val_acc: 0.7607\n",
      "\n",
      "Epoch 00033: val_acc did not improve from 0.76096\n",
      "Epoch 34/100\n",
      "36776/36776 [==============================] - 0s 9us/step - loss: 0.4810 - acc: 0.7600 - val_loss: 0.4925 - val_acc: 0.7591\n",
      "\n",
      "Epoch 00034: val_acc did not improve from 0.76096\n",
      "Epoch 35/100\n",
      "36776/36776 [==============================] - 0s 9us/step - loss: 0.4825 - acc: 0.7605 - val_loss: 0.4861 - val_acc: 0.7558\n",
      "\n",
      "Epoch 00035: val_acc did not improve from 0.76096\n",
      "Epoch 36/100\n",
      "36776/36776 [==============================] - 0s 9us/step - loss: 0.4821 - acc: 0.7595 - val_loss: 0.4826 - val_acc: 0.7632\n",
      "\n",
      "Epoch 00036: val_acc improved from 0.76096 to 0.76324, saving model to ./DNN_Model-10Second\n",
      "Epoch 37/100\n",
      "36776/36776 [==============================] - 0s 9us/step - loss: 0.4790 - acc: 0.7623 - val_loss: 0.4845 - val_acc: 0.7595\n",
      "\n",
      "Epoch 00037: val_acc did not improve from 0.76324\n",
      "Epoch 38/100\n",
      "36776/36776 [==============================] - 0s 9us/step - loss: 0.4772 - acc: 0.7617 - val_loss: 0.4810 - val_acc: 0.7657\n",
      "\n",
      "Epoch 00038: val_acc improved from 0.76324 to 0.76574, saving model to ./DNN_Model-10Second\n",
      "Epoch 39/100\n",
      "36776/36776 [==============================] - 0s 9us/step - loss: 0.4782 - acc: 0.7625 - val_loss: 0.4820 - val_acc: 0.7592\n",
      "\n",
      "Epoch 00039: val_acc did not improve from 0.76574\n",
      "Epoch 40/100\n",
      "36776/36776 [==============================] - 0s 9us/step - loss: 0.4785 - acc: 0.7602 - val_loss: 0.4834 - val_acc: 0.7592\n",
      "\n",
      "Epoch 00040: val_acc did not improve from 0.76574\n",
      "Epoch 41/100\n"
     ]
    },
    {
     "name": "stdout",
     "output_type": "stream",
     "text": [
      "36776/36776 [==============================] - 0s 9us/step - loss: 0.4750 - acc: 0.7623 - val_loss: 0.4813 - val_acc: 0.7632\n",
      "\n",
      "Epoch 00041: val_acc did not improve from 0.76574\n",
      "Epoch 42/100\n",
      "36776/36776 [==============================] - 0s 9us/step - loss: 0.4754 - acc: 0.7620 - val_loss: 0.4818 - val_acc: 0.7640\n",
      "\n",
      "Epoch 00042: val_acc did not improve from 0.76574\n",
      "Epoch 43/100\n",
      "36776/36776 [==============================] - 0s 9us/step - loss: 0.4740 - acc: 0.7643 - val_loss: 0.4863 - val_acc: 0.7586\n",
      "\n",
      "Epoch 00043: val_acc did not improve from 0.76574\n",
      "Epoch 44/100\n",
      "36776/36776 [==============================] - 0s 9us/step - loss: 0.4712 - acc: 0.7657 - val_loss: 0.4805 - val_acc: 0.7608\n",
      "\n",
      "Epoch 00044: val_acc did not improve from 0.76574\n",
      "Epoch 45/100\n",
      "36776/36776 [==============================] - 0s 9us/step - loss: 0.4719 - acc: 0.7638 - val_loss: 0.4800 - val_acc: 0.7583\n",
      "\n",
      "Epoch 00045: val_acc did not improve from 0.76574\n",
      "Epoch 46/100\n",
      "36776/36776 [==============================] - 0s 9us/step - loss: 0.4741 - acc: 0.7619 - val_loss: 0.4794 - val_acc: 0.7632\n",
      "\n",
      "Epoch 00046: val_acc did not improve from 0.76574\n",
      "Epoch 47/100\n",
      "36776/36776 [==============================] - 0s 9us/step - loss: 0.4738 - acc: 0.7637 - val_loss: 0.4809 - val_acc: 0.7641\n",
      "\n",
      "Epoch 00047: val_acc did not improve from 0.76574\n",
      "Epoch 48/100\n",
      "36776/36776 [==============================] - 0s 9us/step - loss: 0.4730 - acc: 0.7641 - val_loss: 0.4773 - val_acc: 0.7636\n",
      "\n",
      "Epoch 00048: val_acc did not improve from 0.76574\n",
      "Epoch 49/100\n",
      "36776/36776 [==============================] - 0s 9us/step - loss: 0.4726 - acc: 0.7664 - val_loss: 0.4787 - val_acc: 0.7633\n",
      "\n",
      "Epoch 00049: val_acc did not improve from 0.76574\n",
      "Epoch 50/100\n",
      "36776/36776 [==============================] - 0s 9us/step - loss: 0.4704 - acc: 0.7650 - val_loss: 0.4816 - val_acc: 0.7582\n",
      "\n",
      "Epoch 00050: val_acc did not improve from 0.76574\n",
      "Epoch 51/100\n",
      "36776/36776 [==============================] - 0s 9us/step - loss: 0.4685 - acc: 0.7651 - val_loss: 0.4856 - val_acc: 0.7581\n",
      "\n",
      "Epoch 00051: val_acc did not improve from 0.76574\n",
      "Epoch 52/100\n",
      "36776/36776 [==============================] - 0s 9us/step - loss: 0.4678 - acc: 0.7676 - val_loss: 0.4846 - val_acc: 0.7633\n",
      "\n",
      "Epoch 00052: val_acc did not improve from 0.76574\n",
      "Epoch 53/100\n",
      "36776/36776 [==============================] - 0s 9us/step - loss: 0.4679 - acc: 0.7650 - val_loss: 0.4804 - val_acc: 0.7601\n",
      "\n",
      "Epoch 00053: val_acc did not improve from 0.76574\n",
      "Epoch 54/100\n",
      "36776/36776 [==============================] - 0s 9us/step - loss: 0.4674 - acc: 0.7681 - val_loss: 0.4806 - val_acc: 0.7612\n",
      "\n",
      "Epoch 00054: val_acc did not improve from 0.76574\n",
      "Epoch 55/100\n",
      "36776/36776 [==============================] - 0s 9us/step - loss: 0.4667 - acc: 0.7687 - val_loss: 0.4844 - val_acc: 0.7622\n",
      "\n",
      "Epoch 00055: val_acc did not improve from 0.76574\n",
      "Epoch 56/100\n",
      "36776/36776 [==============================] - 0s 9us/step - loss: 0.4643 - acc: 0.7683 - val_loss: 0.4795 - val_acc: 0.7677\n",
      "\n",
      "Epoch 00056: val_acc improved from 0.76574 to 0.76770, saving model to ./DNN_Model-10Second\n",
      "Epoch 57/100\n",
      "36776/36776 [==============================] - 0s 9us/step - loss: 0.4656 - acc: 0.7677 - val_loss: 0.4779 - val_acc: 0.7654\n",
      "\n",
      "Epoch 00057: val_acc did not improve from 0.76770\n",
      "Epoch 58/100\n",
      "36776/36776 [==============================] - 0s 9us/step - loss: 0.4643 - acc: 0.7681 - val_loss: 0.4759 - val_acc: 0.7673\n",
      "\n",
      "Epoch 00058: val_acc did not improve from 0.76770\n",
      "Epoch 59/100\n",
      "36776/36776 [==============================] - 0s 9us/step - loss: 0.4635 - acc: 0.7681 - val_loss: 0.4765 - val_acc: 0.7668\n",
      "\n",
      "Epoch 00059: val_acc did not improve from 0.76770\n",
      "Epoch 60/100\n",
      "36776/36776 [==============================] - 0s 9us/step - loss: 0.4649 - acc: 0.7656 - val_loss: 0.4756 - val_acc: 0.7660\n",
      "\n",
      "Epoch 00060: val_acc did not improve from 0.76770\n",
      "Epoch 61/100\n",
      "36776/36776 [==============================] - 0s 9us/step - loss: 0.4626 - acc: 0.7700 - val_loss: 0.4837 - val_acc: 0.7628\n",
      "\n",
      "Epoch 00061: val_acc did not improve from 0.76770\n",
      "Epoch 62/100\n",
      "36776/36776 [==============================] - 0s 9us/step - loss: 0.4624 - acc: 0.7689 - val_loss: 0.4792 - val_acc: 0.7665\n",
      "\n",
      "Epoch 00062: val_acc did not improve from 0.76770\n",
      "Epoch 63/100\n",
      "36776/36776 [==============================] - 0s 9us/step - loss: 0.4629 - acc: 0.7695 - val_loss: 0.4833 - val_acc: 0.7622\n",
      "\n",
      "Epoch 00063: val_acc did not improve from 0.76770\n",
      "Epoch 64/100\n",
      "36776/36776 [==============================] - 0s 9us/step - loss: 0.4633 - acc: 0.7703 - val_loss: 0.4847 - val_acc: 0.7637\n",
      "\n",
      "Epoch 00064: val_acc did not improve from 0.76770\n",
      "Epoch 65/100\n",
      "36776/36776 [==============================] - 0s 9us/step - loss: 0.4657 - acc: 0.7656 - val_loss: 0.4833 - val_acc: 0.7641\n",
      "\n",
      "Epoch 00065: val_acc did not improve from 0.76770\n",
      "Epoch 66/100\n",
      "36776/36776 [==============================] - 0s 9us/step - loss: 0.4604 - acc: 0.7696 - val_loss: 0.4790 - val_acc: 0.7644\n",
      "\n",
      "Epoch 00066: val_acc did not improve from 0.76770\n",
      "Epoch 67/100\n",
      "36776/36776 [==============================] - 0s 9us/step - loss: 0.4623 - acc: 0.7699 - val_loss: 0.4767 - val_acc: 0.7637\n",
      "\n",
      "Epoch 00067: val_acc did not improve from 0.76770\n",
      "Epoch 68/100\n",
      "36776/36776 [==============================] - 0s 9us/step - loss: 0.4592 - acc: 0.7710 - val_loss: 0.4778 - val_acc: 0.7652\n",
      "\n",
      "Epoch 00068: val_acc did not improve from 0.76770\n",
      "Epoch 69/100\n",
      "36776/36776 [==============================] - 0s 9us/step - loss: 0.4587 - acc: 0.7723 - val_loss: 0.4807 - val_acc: 0.7640\n",
      "\n",
      "Epoch 00069: val_acc did not improve from 0.76770\n",
      "Epoch 70/100\n",
      "36776/36776 [==============================] - 0s 9us/step - loss: 0.4575 - acc: 0.7728 - val_loss: 0.4828 - val_acc: 0.7659\n",
      "\n",
      "Epoch 00070: val_acc did not improve from 0.76770\n",
      "Epoch 71/100\n",
      "36776/36776 [==============================] - 0s 9us/step - loss: 0.4598 - acc: 0.7716 - val_loss: 0.4789 - val_acc: 0.7661\n",
      "\n",
      "Epoch 00071: val_acc did not improve from 0.76770\n",
      "Epoch 72/100\n",
      "36776/36776 [==============================] - 0s 9us/step - loss: 0.4549 - acc: 0.7746 - val_loss: 0.4832 - val_acc: 0.7641\n",
      "\n",
      "Epoch 00072: val_acc did not improve from 0.76770\n",
      "Epoch 73/100\n",
      "36776/36776 [==============================] - 0s 9us/step - loss: 0.4601 - acc: 0.7710 - val_loss: 0.4763 - val_acc: 0.7672\n",
      "\n",
      "Epoch 00073: val_acc did not improve from 0.76770\n",
      "Epoch 74/100\n",
      "36776/36776 [==============================] - 0s 9us/step - loss: 0.4574 - acc: 0.7725 - val_loss: 0.4779 - val_acc: 0.7681\n",
      "\n",
      "Epoch 00074: val_acc improved from 0.76770 to 0.76813, saving model to ./DNN_Model-10Second\n",
      "Epoch 75/100\n",
      "36776/36776 [==============================] - 0s 9us/step - loss: 0.4586 - acc: 0.7727 - val_loss: 0.4796 - val_acc: 0.7667\n",
      "\n",
      "Epoch 00075: val_acc did not improve from 0.76813\n",
      "Epoch 76/100\n",
      "36776/36776 [==============================] - 0s 9us/step - loss: 0.4566 - acc: 0.7740 - val_loss: 0.4781 - val_acc: 0.7682\n",
      "\n",
      "Epoch 00076: val_acc improved from 0.76813 to 0.76824, saving model to ./DNN_Model-10Second\n",
      "Epoch 77/100\n",
      "36776/36776 [==============================] - 0s 9us/step - loss: 0.4538 - acc: 0.7739 - val_loss: 0.4797 - val_acc: 0.7675\n",
      "\n",
      "Epoch 00077: val_acc did not improve from 0.76824\n",
      "Epoch 78/100\n",
      "36776/36776 [==============================] - 0s 9us/step - loss: 0.4560 - acc: 0.7746 - val_loss: 0.4907 - val_acc: 0.7553\n",
      "\n",
      "Epoch 00078: val_acc did not improve from 0.76824\n",
      "Epoch 79/100\n",
      "36776/36776 [==============================] - 0s 9us/step - loss: 0.4559 - acc: 0.7737 - val_loss: 0.4746 - val_acc: 0.7681\n",
      "\n",
      "Epoch 00079: val_acc did not improve from 0.76824\n",
      "Epoch 80/100\n",
      "36776/36776 [==============================] - 0s 9us/step - loss: 0.4546 - acc: 0.7740 - val_loss: 0.4811 - val_acc: 0.7653\n",
      "\n",
      "Epoch 00080: val_acc did not improve from 0.76824\n",
      "Epoch 81/100\n",
      "36776/36776 [==============================] - 0s 9us/step - loss: 0.4539 - acc: 0.7738 - val_loss: 0.4830 - val_acc: 0.7628\n",
      "\n",
      "Epoch 00081: val_acc did not improve from 0.76824\n",
      "Epoch 82/100\n",
      "36776/36776 [==============================] - 0s 9us/step - loss: 0.4544 - acc: 0.7762 - val_loss: 0.4793 - val_acc: 0.7670\n",
      "\n",
      "Epoch 00082: val_acc did not improve from 0.76824\n",
      "Epoch 83/100\n",
      "36776/36776 [==============================] - 0s 9us/step - loss: 0.4564 - acc: 0.7730 - val_loss: 0.4772 - val_acc: 0.7653\n",
      "\n",
      "Epoch 00083: val_acc did not improve from 0.76824\n",
      "Epoch 84/100\n"
     ]
    },
    {
     "name": "stdout",
     "output_type": "stream",
     "text": [
      "36776/36776 [==============================] - 0s 9us/step - loss: 0.4543 - acc: 0.7768 - val_loss: 0.4794 - val_acc: 0.7690\n",
      "\n",
      "Epoch 00084: val_acc improved from 0.76824 to 0.76900, saving model to ./DNN_Model-10Second\n",
      "Epoch 85/100\n",
      "36776/36776 [==============================] - 0s 9us/step - loss: 0.4543 - acc: 0.7747 - val_loss: 0.4859 - val_acc: 0.7672\n",
      "\n",
      "Epoch 00085: val_acc did not improve from 0.76900\n",
      "Epoch 86/100\n",
      "36776/36776 [==============================] - 0s 9us/step - loss: 0.4503 - acc: 0.7756 - val_loss: 0.4809 - val_acc: 0.7701\n",
      "\n",
      "Epoch 00086: val_acc improved from 0.76900 to 0.77009, saving model to ./DNN_Model-10Second\n",
      "Epoch 87/100\n",
      "36776/36776 [==============================] - 0s 9us/step - loss: 0.4515 - acc: 0.7749 - val_loss: 0.4755 - val_acc: 0.7692\n",
      "\n",
      "Epoch 00087: val_acc did not improve from 0.77009\n",
      "Epoch 88/100\n",
      "36776/36776 [==============================] - 0s 9us/step - loss: 0.4522 - acc: 0.7759 - val_loss: 0.4792 - val_acc: 0.7690\n",
      "\n",
      "Epoch 00088: val_acc did not improve from 0.77009\n",
      "Epoch 89/100\n",
      "36776/36776 [==============================] - 0s 9us/step - loss: 0.4518 - acc: 0.7762 - val_loss: 0.4769 - val_acc: 0.7717\n",
      "\n",
      "Epoch 00089: val_acc improved from 0.77009 to 0.77172, saving model to ./DNN_Model-10Second\n",
      "Epoch 90/100\n",
      "36776/36776 [==============================] - 0s 10us/step - loss: 0.4519 - acc: 0.7754 - val_loss: 0.4753 - val_acc: 0.7697\n",
      "\n",
      "Epoch 00090: val_acc did not improve from 0.77172\n",
      "Epoch 91/100\n",
      "36776/36776 [==============================] - 0s 9us/step - loss: 0.4509 - acc: 0.7759 - val_loss: 0.4773 - val_acc: 0.7689\n",
      "\n",
      "Epoch 00091: val_acc did not improve from 0.77172\n",
      "Epoch 92/100\n",
      "36776/36776 [==============================] - 0s 9us/step - loss: 0.4507 - acc: 0.7770 - val_loss: 0.4789 - val_acc: 0.7687\n",
      "\n",
      "Epoch 00092: val_acc did not improve from 0.77172\n",
      "Epoch 93/100\n",
      "36776/36776 [==============================] - 0s 9us/step - loss: 0.4504 - acc: 0.7788 - val_loss: 0.4773 - val_acc: 0.7685\n",
      "\n",
      "Epoch 00093: val_acc did not improve from 0.77172\n",
      "Epoch 94/100\n",
      "36776/36776 [==============================] - 0s 9us/step - loss: 0.4481 - acc: 0.7777 - val_loss: 0.4826 - val_acc: 0.7637\n",
      "\n",
      "Epoch 00094: val_acc did not improve from 0.77172\n",
      "Epoch 95/100\n",
      "36776/36776 [==============================] - 0s 9us/step - loss: 0.4485 - acc: 0.7782 - val_loss: 0.4786 - val_acc: 0.7678\n",
      "\n",
      "Epoch 00095: val_acc did not improve from 0.77172\n",
      "Epoch 96/100\n",
      "36776/36776 [==============================] - 0s 9us/step - loss: 0.4516 - acc: 0.7748 - val_loss: 0.4766 - val_acc: 0.7707\n",
      "\n",
      "Epoch 00096: val_acc did not improve from 0.77172\n",
      "Epoch 97/100\n",
      "36776/36776 [==============================] - 0s 9us/step - loss: 0.4498 - acc: 0.7774 - val_loss: 0.4769 - val_acc: 0.7651\n",
      "\n",
      "Epoch 00097: val_acc did not improve from 0.77172\n",
      "Epoch 98/100\n",
      "36776/36776 [==============================] - 0s 9us/step - loss: 0.4512 - acc: 0.7769 - val_loss: 0.4770 - val_acc: 0.7695\n",
      "\n",
      "Epoch 00098: val_acc did not improve from 0.77172\n",
      "Epoch 99/100\n",
      "36776/36776 [==============================] - 0s 9us/step - loss: 0.4477 - acc: 0.7777 - val_loss: 0.4792 - val_acc: 0.7688\n",
      "\n",
      "Epoch 00099: val_acc did not improve from 0.77172\n",
      "Epoch 100/100\n",
      "36776/36776 [==============================] - 0s 9us/step - loss: 0.4460 - acc: 0.7793 - val_loss: 0.4807 - val_acc: 0.7649\n",
      "\n",
      "Epoch 00100: val_acc did not improve from 0.77172\n"
     ]
    }
   ],
   "source": [
    "epochs = 100\n",
    "batch_size = 512\n",
    "data_path = '.'\n",
    "data_file = '/DNN_Model-10Second'\n",
    "\n",
    "\n",
    "model.compile(loss=keras.losses.categorical_crossentropy,\n",
    "              optimizer='adam',\n",
    "              metrics=['accuracy'])\n",
    "\n",
    "\n",
    "checkpointer = keras.callbacks.ModelCheckpoint(filepath=data_path+data_file, \n",
    "                                               verbose=1,\n",
    "                                               monitor='val_acc',\n",
    "                                               save_best_only=True, \n",
    "                                               save_weights_only=False)\n",
    "\n",
    "callbacks_list = [checkpointer]\n",
    "\n",
    "H = model.fit(X_train, \n",
    "              Y_train, \n",
    "              batch_size=batch_size, \n",
    "              epochs=epochs, verbose=1, \n",
    "              shuffle=True, \n",
    "              validation_split=0.2,\n",
    "              callbacks=callbacks_list)\n",
    "#validation_data=(X_val, Y_val),"
   ]
  },
  {
   "cell_type": "markdown",
   "metadata": {},
   "source": [
    "# Plot training accuracy vs testing accuracy"
   ]
  },
  {
   "cell_type": "code",
   "execution_count": 133,
   "metadata": {},
   "outputs": [
    {
     "name": "stdout",
     "output_type": "stream",
     "text": [
      "dict_keys(['val_loss', 'val_acc', 'loss', 'acc'])\n"
     ]
    },
    {
     "data": {
      "image/png": "[encoded data removed]",
      "text/plain": [
       "<Figure size 432x288 with 1 Axes>"
      ]
     },
     "metadata": {},
     "output_type": "display_data"
    },
    {
     "data": {
      "image/png": "[encoded data removed]",
      "text/plain": [
       "<Figure size 432x288 with 1 Axes>"
      ]
     },
     "metadata": {},
     "output_type": "display_data"
    }
   ],
   "source": [
    "print(H.history.keys())\n",
    "\n",
    "val_acc=H.history['val_acc']\n",
    "acc = H.history['acc']\n",
    "\n",
    "val_loss=H.history['val_loss']\n",
    "loss = H.history['loss']\n",
    "\n",
    "\n",
    "#fig= plt.figure(figsize=(15,10))\n",
    "plt.plot(val_acc,label='Val Acc')\n",
    "plt.plot(acc,label='Train Acc')\n",
    "plt.ylabel('Accuracy')\n",
    "plt.grid(True)\n",
    "plt.legend()\n",
    "plt.show()\n",
    "\n",
    "\n",
    "#fig= plt.figure(figsize=(15,10))\n",
    "plt.plot(val_loss,label='Val Loss')\n",
    "plt.plot(loss,label='Train Loss')\n",
    "\n",
    "plt.ylabel('Loss')\n",
    "plt.legend()\n",
    "plt.show()"
   ]
  },
  {
   "cell_type": "code",
   "execution_count": 135,
   "metadata": {},
   "outputs": [
    {
     "name": "stdout",
     "output_type": "stream",
     "text": [
      "[[3928 1864]\n",
      " [ 840 4861]]\n",
      "0.7647263551727138\n"
     ]
    }
   ],
   "source": [
    "y_pred = np.argmax(model.predict(X_test), axis=1)\n",
    "\n",
    "y_true = Y_test\n",
    "print(confusion_matrix(y_true, y_pred))\n",
    "print(accuracy_score(y_true, y_pred))"
   ]
  }
 ],
 "metadata": {
  "kernelspec": {
   "display_name": "Python [conda env:myenv]",
   "language": "python",
   "name": "conda-env-myenv-py"
  },
  "language_info": {
   "codemirror_mode": {
    "name": "ipython",
    "version": 3
   },
   "file_extension": ".py",
   "mimetype": "text/x-python",
   "name": "python",
   "nbconvert_exporter": "python",
   "pygments_lexer": "ipython3",
   "version": "3.6.5"
  }
 },
 "nbformat": 4,
 "nbformat_minor": 2
}
