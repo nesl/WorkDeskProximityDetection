{
 "cells": [
  {
   "cell_type": "code",
   "execution_count": 1,
   "metadata": {},
   "outputs": [
    {
     "name": "stderr",
     "output_type": "stream",
     "text": [
      "/home/mperf/anaconda3/envs/myenv/lib/python3.6/importlib/_bootstrap_external.py:426: ImportWarning: Not importing directory /home/mperf/anaconda3/envs/myenv/lib/python3.6/site-packages/google: missing __init__\n",
      "  _warnings.warn(msg.format(portions[0]), ImportWarning)\n",
      "/home/mperf/anaconda3/envs/myenv/lib/python3.6/importlib/_bootstrap_external.py:426: ImportWarning: Not importing directory /home/mperf/anaconda3/envs/myenv/lib/python3.6/site-packages/mpl_toolkits: missing __init__\n",
      "  _warnings.warn(msg.format(portions[0]), ImportWarning)\n",
      "/home/mperf/anaconda3/envs/myenv/lib/python3.6/site-packages/tensorflow/python/framework/ops.py:923: DeprecationWarning: builtin type EagerTensor has no __module__ attribute\n",
      "  EagerTensor = c_api.TFE_Py_InitEagerTensor(_EagerTensorBase)\n",
      "/home/mperf/anaconda3/envs/myenv/lib/python3.6/site-packages/tensorflow/python/util/tf_inspect.py:75: DeprecationWarning: inspect.getargspec() is deprecated, use inspect.signature() or inspect.getfullargspec()\n",
      "  return _inspect.getargspec(target)\n",
      "/home/mperf/anaconda3/envs/myenv/lib/python3.6/importlib/_bootstrap.py:219: ImportWarning: can't resolve package from __spec__ or __package__, falling back on __name__ and __path__\n",
      "  return f(*args, **kwds)\n",
      "/home/mperf/anaconda3/envs/myenv/lib/python3.6/site-packages/tensorflow/python/keras/backend.py:4785: ResourceWarning: unclosed file <_io.TextIOWrapper name='/home/mperf/.keras/keras.json' mode='r' encoding='UTF-8'>\n",
      "  _config = json.load(open(_config_path))\n",
      "/home/mperf/anaconda3/envs/myenv/lib/python3.6/importlib/_bootstrap.py:219: ImportWarning: can't resolve package from __spec__ or __package__, falling back on __name__ and __path__\n",
      "  return f(*args, **kwds)\n",
      "/home/mperf/anaconda3/envs/myenv/lib/python3.6/importlib/_bootstrap.py:219: ImportWarning: can't resolve package from __spec__ or __package__, falling back on __name__ and __path__\n",
      "  return f(*args, **kwds)\n",
      "/home/mperf/anaconda3/envs/myenv/lib/python3.6/importlib/_bootstrap.py:219: ImportWarning: can't resolve package from __spec__ or __package__, falling back on __name__ and __path__\n",
      "  return f(*args, **kwds)\n",
      "/home/mperf/anaconda3/envs/myenv/lib/python3.6/importlib/_bootstrap.py:219: ImportWarning: can't resolve package from __spec__ or __package__, falling back on __name__ and __path__\n",
      "  return f(*args, **kwds)\n"
     ]
    }
   ],
   "source": [
    "import numpy as np\n",
    "import tensorflow as tf\n",
    "from tensorflow import keras\n",
    "#import sklearn\n",
    "from sklearn.preprocessing import normalize\n",
    "from scipy import stats\n",
    "import matplotlib.pyplot as plt"
   ]
  },
  {
   "cell_type": "markdown",
   "metadata": {},
   "source": [
    "# Load features and labels"
   ]
  },
  {
   "cell_type": "code",
   "execution_count": 2,
   "metadata": {},
   "outputs": [
    {
     "name": "stdout",
     "output_type": "stream",
     "text": [
      "Feature matrix shape: (128699, 170)\n",
      "Label matrix shape: (128699,)\n"
     ]
    }
   ],
   "source": [
    "feature_path = '../data/03996723-2411-4167-b14b-eb11dfc33124/features.npy'\n",
    "label_path = '../data/03996723-2411-4167-b14b-eb11dfc33124/labels.npy'\n",
    "features = np.load(feature_path)\n",
    "labels = stats.mode(np.load(label_path), axis=1)[0][:, 0]\n",
    "\n",
    "print('Feature matrix shape:', features.shape)\n",
    "print('Label matrix shape:', labels.shape)"
   ]
  },
  {
   "cell_type": "code",
   "execution_count": 3,
   "metadata": {},
   "outputs": [
    {
     "name": "stdout",
     "output_type": "stream",
     "text": [
      "{0.0: 99967, 1.0: 28732}\n"
     ]
    }
   ],
   "source": [
    "unique, counts = np.unique(labels, return_counts=True)\n",
    "print(dict(zip(unique, counts)))"
   ]
  },
  {
   "cell_type": "code",
   "execution_count": 4,
   "metadata": {},
   "outputs": [
    {
     "name": "stdout",
     "output_type": "stream",
     "text": [
      "(99967,)\n"
     ]
    }
   ],
   "source": [
    "zero_indices = np.where(labels==0)[0]\n",
    "one_indices = np.where(labels==1)[0]\n",
    "print(zero_indices.shape)\n",
    "inds = np.random.randint(low=0, high=99967, size=28732)\n",
    "\n",
    "zero_indices = zero_indices[inds]\n",
    "\n",
    "indices = np.hstack((zero_indices, one_indices))\n",
    "\n",
    "np.random.shuffle(indices)\n",
    "\n",
    "new_labels = labels[indices]\n",
    "new_features = features[indices]\n"
   ]
  },
  {
   "cell_type": "code",
   "execution_count": 5,
   "metadata": {},
   "outputs": [
    {
     "name": "stdout",
     "output_type": "stream",
     "text": [
      "(43098, 170)\n",
      "(43098, 2)\n",
      "(14366, 170)\n",
      "(14366, 2)\n"
     ]
    }
   ],
   "source": [
    "num_classes = 2\n",
    "split_idx = int(new_features.shape[0] * 0.75)\n",
    "\n",
    "#X_train = normalize(new_features[:split_idx])\n",
    "X_train = new_features[:split_idx]\n",
    "Y_train = new_labels[:split_idx]\n",
    "\n",
    "#X_val = normalize(new_features[split_idx:])\n",
    "X_val = new_features[split_idx:]\n",
    "Y_val = new_labels[split_idx:]\n",
    "\n",
    "Y_train = keras.utils.to_categorical(Y_train, num_classes)\n",
    "Y_val = keras.utils.to_categorical(Y_val, num_classes)\n",
    "\n",
    "print(X_train.shape)\n",
    "print(Y_train.shape)\n",
    "print(X_val.shape)\n",
    "print(Y_val.shape)"
   ]
  },
  {
   "cell_type": "markdown",
   "metadata": {},
   "source": [
    "# Create MLP classifier"
   ]
  },
  {
   "cell_type": "code",
   "execution_count": 20,
   "metadata": {},
   "outputs": [
    {
     "name": "stderr",
     "output_type": "stream",
     "text": [
      "/home/mperf/anaconda3/envs/myenv/lib/python3.6/site-packages/tensorflow/python/util/tf_inspect.py:75: DeprecationWarning: inspect.getargspec() is deprecated, use inspect.signature() or inspect.getfullargspec()\n",
      "  return _inspect.getargspec(target)\n"
     ]
    }
   ],
   "source": [
    "p = 0.3\n",
    "model = keras.Sequential()\n",
    "# Adds a densely-connected layer with 64 units to the model:\n",
    "model.add(keras.layers.Dense(units=128, activation='relu', input_dim=features.shape[1]))\n",
    "# Add another:\n",
    "model.add(keras.layers.Dropout(p))\n",
    "model.add(keras.layers.Dense(units=64, activation='relu'))\n",
    "model.add(keras.layers.Dropout(p))\n",
    "model.add(keras.layers.Dense(units=32, activation='relu'))\n",
    "\n",
    "# Add a softmax layer with 10 output units:\n",
    "model.add(keras.layers.Dense(units=2, activation='softmax'))"
   ]
  },
  {
   "cell_type": "code",
   "execution_count": 21,
   "metadata": {},
   "outputs": [
    {
     "name": "stdout",
     "output_type": "stream",
     "text": [
      "_________________________________________________________________\n",
      "Layer (type)                 Output Shape              Param #   \n",
      "=================================================================\n",
      "dense_6 (Dense)              (None, 128)               21888     \n",
      "_________________________________________________________________\n",
      "dropout_4 (Dropout)          (None, 128)               0         \n",
      "_________________________________________________________________\n",
      "dense_7 (Dense)              (None, 64)                8256      \n",
      "_________________________________________________________________\n",
      "dropout_5 (Dropout)          (None, 64)                0         \n",
      "_________________________________________________________________\n",
      "dense_8 (Dense)              (None, 32)                2080      \n",
      "_________________________________________________________________\n",
      "dense_9 (Dense)              (None, 2)                 66        \n",
      "=================================================================\n",
      "Total params: 32,290\n",
      "Trainable params: 32,290\n",
      "Non-trainable params: 0\n",
      "_________________________________________________________________\n"
     ]
    }
   ],
   "source": [
    "model.summary()"
   ]
  },
  {
   "cell_type": "code",
   "execution_count": 22,
   "metadata": {},
   "outputs": [
    {
     "name": "stderr",
     "output_type": "stream",
     "text": [
      "/home/mperf/anaconda3/envs/myenv/lib/python3.6/site-packages/tensorflow/python/util/tf_inspect.py:75: DeprecationWarning: inspect.getargspec() is deprecated, use inspect.signature() or inspect.getfullargspec()\n",
      "  return _inspect.getargspec(target)\n"
     ]
    },
    {
     "name": "stdout",
     "output_type": "stream",
     "text": [
      "Train on 43098 samples, validate on 14366 samples\n",
      "Epoch 1/60\n",
      "43098/43098 [==============================] - 1s 20us/step - loss: 7.9106 - acc: 0.5091 - val_loss: 8.0445 - val_acc: 0.5009\n",
      "\n",
      "Epoch 00001: val_acc improved from -inf to 0.50090, saving model to ./DNN_Model-10Second\n",
      "Epoch 2/60\n",
      "43098/43098 [==============================] - 0s 8us/step - loss: 7.9711 - acc: 0.5054 - val_loss: 8.0307 - val_acc: 0.5017\n",
      "\n",
      "Epoch 00002: val_acc improved from 0.50090 to 0.50167, saving model to ./DNN_Model-10Second\n",
      "Epoch 3/60\n",
      "43098/43098 [==============================] - 0s 7us/step - loss: 8.3653 - acc: 0.4807 - val_loss: 8.3003 - val_acc: 0.4850\n",
      "\n",
      "Epoch 00003: val_acc did not improve from 0.50167\n",
      "Epoch 4/60\n",
      "43098/43098 [==============================] - 0s 7us/step - loss: 8.1316 - acc: 0.4954 - val_loss: 8.0355 - val_acc: 0.5015\n",
      "\n",
      "Epoch 00004: val_acc did not improve from 0.50167\n",
      "Epoch 5/60\n",
      "43098/43098 [==============================] - 0s 7us/step - loss: 8.0758 - acc: 0.4989 - val_loss: 8.0355 - val_acc: 0.5015\n",
      "\n",
      "Epoch 00005: val_acc did not improve from 0.50167\n",
      "Epoch 6/60\n",
      "43098/43098 [==============================] - 0s 7us/step - loss: 8.0921 - acc: 0.4979 - val_loss: 8.0355 - val_acc: 0.5015\n",
      "\n",
      "Epoch 00006: val_acc did not improve from 0.50167\n",
      "Epoch 7/60\n",
      "43098/43098 [==============================] - 0s 7us/step - loss: 8.0687 - acc: 0.4994 - val_loss: 8.0355 - val_acc: 0.5015\n",
      "\n",
      "Epoch 00007: val_acc did not improve from 0.50167\n",
      "Epoch 8/60\n",
      "43098/43098 [==============================] - 0s 7us/step - loss: 8.0891 - acc: 0.4981 - val_loss: 8.0355 - val_acc: 0.5015\n",
      "\n",
      "Epoch 00008: val_acc did not improve from 0.50167\n",
      "Epoch 9/60\n",
      "43098/43098 [==============================] - 0s 7us/step - loss: 8.0956 - acc: 0.4977 - val_loss: 8.0355 - val_acc: 0.5015\n",
      "\n",
      "Epoch 00009: val_acc did not improve from 0.50167\n",
      "Epoch 10/60\n",
      "43098/43098 [==============================] - 0s 7us/step - loss: 8.0759 - acc: 0.4990 - val_loss: 8.0355 - val_acc: 0.5015\n",
      "\n",
      "Epoch 00010: val_acc did not improve from 0.50167\n",
      "Epoch 11/60\n",
      "43098/43098 [==============================] - 0s 7us/step - loss: 8.0599 - acc: 0.4999 - val_loss: 8.0355 - val_acc: 0.5015\n",
      "\n",
      "Epoch 00011: val_acc did not improve from 0.50167\n",
      "Epoch 12/60\n",
      "43098/43098 [==============================] - 0s 7us/step - loss: 8.0763 - acc: 0.4989 - val_loss: 8.0355 - val_acc: 0.5015\n",
      "\n",
      "Epoch 00012: val_acc did not improve from 0.50167\n",
      "Epoch 13/60\n",
      "43098/43098 [==============================] - 0s 7us/step - loss: 8.0733 - acc: 0.4991 - val_loss: 8.0355 - val_acc: 0.5015\n",
      "\n",
      "Epoch 00013: val_acc did not improve from 0.50167\n",
      "Epoch 14/60\n",
      "43098/43098 [==============================] - 0s 7us/step - loss: 8.0639 - acc: 0.4997 - val_loss: 8.0355 - val_acc: 0.5015\n",
      "\n",
      "Epoch 00014: val_acc did not improve from 0.50167\n",
      "Epoch 15/60\n",
      "43098/43098 [==============================] - 0s 7us/step - loss: 8.0688 - acc: 0.4994 - val_loss: 8.0355 - val_acc: 0.5015\n",
      "\n",
      "Epoch 00015: val_acc did not improve from 0.50167\n",
      "Epoch 16/60\n",
      "43098/43098 [==============================] - 0s 7us/step - loss: 8.0745 - acc: 0.4990 - val_loss: 8.0355 - val_acc: 0.5015\n",
      "\n",
      "Epoch 00016: val_acc did not improve from 0.50167\n",
      "Epoch 17/60\n",
      "43098/43098 [==============================] - 0s 7us/step - loss: 8.0658 - acc: 0.4996 - val_loss: 8.0355 - val_acc: 0.5015\n",
      "\n",
      "Epoch 00017: val_acc did not improve from 0.50167\n",
      "Epoch 18/60\n",
      "43098/43098 [==============================] - 0s 7us/step - loss: 8.0721 - acc: 0.4992 - val_loss: 8.0355 - val_acc: 0.5015\n",
      "\n",
      "Epoch 00018: val_acc did not improve from 0.50167\n",
      "Epoch 19/60\n",
      "43098/43098 [==============================] - 0s 7us/step - loss: 8.0733 - acc: 0.4991 - val_loss: 8.0355 - val_acc: 0.5015\n",
      "\n",
      "Epoch 00019: val_acc did not improve from 0.50167\n",
      "Epoch 20/60\n",
      "43098/43098 [==============================] - 0s 7us/step - loss: 8.0658 - acc: 0.4996 - val_loss: 8.0355 - val_acc: 0.5015\n",
      "\n",
      "Epoch 00020: val_acc did not improve from 0.50167\n",
      "Epoch 21/60\n",
      "43098/43098 [==============================] - 0s 7us/step - loss: 8.0662 - acc: 0.4996 - val_loss: 8.0355 - val_acc: 0.5015\n",
      "\n",
      "Epoch 00021: val_acc did not improve from 0.50167\n",
      "Epoch 22/60\n",
      "43098/43098 [==============================] - 0s 7us/step - loss: 8.0763 - acc: 0.4989 - val_loss: 8.0355 - val_acc: 0.5015\n",
      "\n",
      "Epoch 00022: val_acc did not improve from 0.50167\n",
      "Epoch 23/60\n",
      "43098/43098 [==============================] - 0s 7us/step - loss: 8.0710 - acc: 0.4993 - val_loss: 8.0355 - val_acc: 0.5015\n",
      "\n",
      "Epoch 00023: val_acc did not improve from 0.50167\n",
      "Epoch 24/60\n",
      "43098/43098 [==============================] - 0s 7us/step - loss: 8.0620 - acc: 0.4998 - val_loss: 8.0355 - val_acc: 0.5015\n",
      "\n",
      "Epoch 00024: val_acc did not improve from 0.50167\n",
      "Epoch 25/60\n",
      "43098/43098 [==============================] - 0s 7us/step - loss: 8.0715 - acc: 0.4992 - val_loss: 8.0355 - val_acc: 0.5015\n",
      "\n",
      "Epoch 00025: val_acc did not improve from 0.50167\n",
      "Epoch 26/60\n",
      "43098/43098 [==============================] - 0s 7us/step - loss: 8.0650 - acc: 0.4996 - val_loss: 8.0355 - val_acc: 0.5015\n",
      "\n",
      "Epoch 00026: val_acc did not improve from 0.50167\n",
      "Epoch 27/60\n",
      "43098/43098 [==============================] - 0s 7us/step - loss: 8.0699 - acc: 0.4993 - val_loss: 8.0355 - val_acc: 0.5015\n",
      "\n",
      "Epoch 00027: val_acc did not improve from 0.50167\n",
      "Epoch 28/60\n",
      "43098/43098 [==============================] - 0s 7us/step - loss: 8.0720 - acc: 0.4992 - val_loss: 8.0355 - val_acc: 0.5015\n",
      "\n",
      "Epoch 00028: val_acc did not improve from 0.50167\n",
      "Epoch 29/60\n",
      "43098/43098 [==============================] - 0s 7us/step - loss: 8.0667 - acc: 0.4995 - val_loss: 8.0355 - val_acc: 0.5015\n",
      "\n",
      "Epoch 00029: val_acc did not improve from 0.50167\n",
      "Epoch 30/60\n",
      "43098/43098 [==============================] - 0s 7us/step - loss: 8.0673 - acc: 0.4995 - val_loss: 8.0355 - val_acc: 0.5015\n",
      "\n",
      "Epoch 00030: val_acc did not improve from 0.50167\n",
      "Epoch 31/60\n",
      "43098/43098 [==============================] - 0s 7us/step - loss: 8.0662 - acc: 0.4996 - val_loss: 8.0355 - val_acc: 0.5015\n",
      "\n",
      "Epoch 00031: val_acc did not improve from 0.50167\n",
      "Epoch 32/60\n",
      "43098/43098 [==============================] - 0s 7us/step - loss: 8.0665 - acc: 0.4995 - val_loss: 8.0355 - val_acc: 0.5015\n",
      "\n",
      "Epoch 00032: val_acc did not improve from 0.50167\n",
      "Epoch 33/60\n",
      "43098/43098 [==============================] - 0s 7us/step - loss: 8.0718 - acc: 0.4992 - val_loss: 8.0355 - val_acc: 0.5015\n",
      "\n",
      "Epoch 00033: val_acc did not improve from 0.50167\n",
      "Epoch 34/60\n",
      "43098/43098 [==============================] - 0s 7us/step - loss: 8.0658 - acc: 0.4996 - val_loss: 8.0355 - val_acc: 0.5015\n",
      "\n",
      "Epoch 00034: val_acc did not improve from 0.50167\n",
      "Epoch 35/60\n",
      "43098/43098 [==============================] - 0s 7us/step - loss: 8.0938 - acc: 0.4978 - val_loss: 8.0355 - val_acc: 0.5015\n",
      "\n",
      "Epoch 00035: val_acc did not improve from 0.50167\n",
      "Epoch 36/60\n",
      "43098/43098 [==============================] - 0s 7us/step - loss: 7.1413 - acc: 0.5568 - val_loss: 6.4546 - val_acc: 0.5995\n",
      "\n",
      "Epoch 00036: val_acc improved from 0.50167 to 0.59954, saving model to ./DNN_Model-10Second\n",
      "Epoch 37/60\n",
      "43098/43098 [==============================] - 0s 7us/step - loss: 6.5128 - acc: 0.5959 - val_loss: 8.3003 - val_acc: 0.4850\n",
      "\n",
      "Epoch 00037: val_acc did not improve from 0.59954\n",
      "Epoch 38/60\n",
      "43098/43098 [==============================] - 0s 7us/step - loss: 8.1655 - acc: 0.4933 - val_loss: 8.3025 - val_acc: 0.4849\n",
      "\n",
      "Epoch 00038: val_acc did not improve from 0.59954\n",
      "Epoch 39/60\n",
      "43098/43098 [==============================] - 0s 7us/step - loss: 8.1877 - acc: 0.4920 - val_loss: 8.3025 - val_acc: 0.4849\n",
      "\n",
      "Epoch 00039: val_acc did not improve from 0.59954\n",
      "Epoch 40/60\n",
      "43098/43098 [==============================] - 0s 7us/step - loss: 8.1813 - acc: 0.4924 - val_loss: 8.3025 - val_acc: 0.4849\n",
      "\n",
      "Epoch 00040: val_acc did not improve from 0.59954\n",
      "Epoch 41/60\n",
      "43098/43098 [==============================] - 0s 7us/step - loss: 8.1937 - acc: 0.4916 - val_loss: 8.3025 - val_acc: 0.4849\n",
      "\n",
      "Epoch 00041: val_acc did not improve from 0.59954\n",
      "Epoch 42/60\n",
      "43098/43098 [==============================] - 0s 7us/step - loss: 8.1533 - acc: 0.4941 - val_loss: 8.3025 - val_acc: 0.4849\n",
      "\n",
      "Epoch 00042: val_acc did not improve from 0.59954\n",
      "Epoch 43/60\n",
      "43098/43098 [==============================] - 0s 7us/step - loss: 8.0715 - acc: 0.4992 - val_loss: 8.0355 - val_acc: 0.5015\n"
     ]
    },
    {
     "name": "stdout",
     "output_type": "stream",
     "text": [
      "\n",
      "Epoch 00043: val_acc did not improve from 0.59954\n",
      "Epoch 44/60\n",
      "43098/43098 [==============================] - 0s 7us/step - loss: 8.0669 - acc: 0.4995 - val_loss: 8.0355 - val_acc: 0.5015\n",
      "\n",
      "Epoch 00044: val_acc did not improve from 0.59954\n",
      "Epoch 45/60\n",
      "43098/43098 [==============================] - 0s 7us/step - loss: 8.0669 - acc: 0.4995 - val_loss: 8.0355 - val_acc: 0.5015\n",
      "\n",
      "Epoch 00045: val_acc did not improve from 0.59954\n",
      "Epoch 46/60\n",
      "43098/43098 [==============================] - 0s 7us/step - loss: 8.0680 - acc: 0.4994 - val_loss: 8.0355 - val_acc: 0.5015\n",
      "\n",
      "Epoch 00046: val_acc did not improve from 0.59954\n",
      "Epoch 47/60\n",
      "43098/43098 [==============================] - 0s 7us/step - loss: 8.0669 - acc: 0.4995 - val_loss: 8.0355 - val_acc: 0.5015\n",
      "\n",
      "Epoch 00047: val_acc did not improve from 0.59954\n",
      "Epoch 48/60\n",
      "43098/43098 [==============================] - 0s 7us/step - loss: 8.0706 - acc: 0.4993 - val_loss: 8.0355 - val_acc: 0.5015\n",
      "\n",
      "Epoch 00048: val_acc did not improve from 0.59954\n",
      "Epoch 49/60\n",
      "43098/43098 [==============================] - 0s 7us/step - loss: 8.0703 - acc: 0.4993 - val_loss: 8.0355 - val_acc: 0.5015\n",
      "\n",
      "Epoch 00049: val_acc did not improve from 0.59954\n",
      "Epoch 50/60\n",
      "43098/43098 [==============================] - 0s 7us/step - loss: 8.0677 - acc: 0.4995 - val_loss: 8.0355 - val_acc: 0.5015\n",
      "\n",
      "Epoch 00050: val_acc did not improve from 0.59954\n",
      "Epoch 51/60\n",
      "43098/43098 [==============================] - 0s 7us/step - loss: 8.0662 - acc: 0.4996 - val_loss: 8.0355 - val_acc: 0.5015\n",
      "\n",
      "Epoch 00051: val_acc did not improve from 0.59954\n",
      "Epoch 52/60\n",
      "43098/43098 [==============================] - 0s 7us/step - loss: 8.0691 - acc: 0.4994 - val_loss: 8.0355 - val_acc: 0.5015\n",
      "\n",
      "Epoch 00052: val_acc did not improve from 0.59954\n",
      "Epoch 53/60\n",
      "43098/43098 [==============================] - 0s 7us/step - loss: 8.0658 - acc: 0.4996 - val_loss: 8.0355 - val_acc: 0.5015\n",
      "\n",
      "Epoch 00053: val_acc did not improve from 0.59954\n",
      "Epoch 54/60\n",
      "43098/43098 [==============================] - 0s 7us/step - loss: 8.0639 - acc: 0.4997 - val_loss: 8.0355 - val_acc: 0.5015\n",
      "\n",
      "Epoch 00054: val_acc did not improve from 0.59954\n",
      "Epoch 55/60\n",
      "43098/43098 [==============================] - 0s 7us/step - loss: 8.0654 - acc: 0.4996 - val_loss: 8.0355 - val_acc: 0.5015\n",
      "\n",
      "Epoch 00055: val_acc did not improve from 0.59954\n",
      "Epoch 56/60\n",
      "43098/43098 [==============================] - 0s 7us/step - loss: 8.0647 - acc: 0.4997 - val_loss: 8.0355 - val_acc: 0.5015\n",
      "\n",
      "Epoch 00056: val_acc did not improve from 0.59954\n",
      "Epoch 57/60\n",
      "43098/43098 [==============================] - 0s 7us/step - loss: 8.0669 - acc: 0.4995 - val_loss: 8.0355 - val_acc: 0.5015\n",
      "\n",
      "Epoch 00057: val_acc did not improve from 0.59954\n",
      "Epoch 58/60\n",
      "43098/43098 [==============================] - 0s 7us/step - loss: 8.0673 - acc: 0.4995 - val_loss: 8.0355 - val_acc: 0.5015\n",
      "\n",
      "Epoch 00058: val_acc did not improve from 0.59954\n",
      "Epoch 59/60\n",
      "43098/43098 [==============================] - 0s 7us/step - loss: 8.0662 - acc: 0.4996 - val_loss: 8.0355 - val_acc: 0.5015\n",
      "\n",
      "Epoch 00059: val_acc did not improve from 0.59954\n",
      "Epoch 60/60\n",
      "43098/43098 [==============================] - 0s 7us/step - loss: 8.0680 - acc: 0.4994 - val_loss: 8.0355 - val_acc: 0.5015\n",
      "\n",
      "Epoch 00060: val_acc did not improve from 0.59954\n"
     ]
    }
   ],
   "source": [
    "epochs = 60\n",
    "batch_size = 512\n",
    "data_path = '.'\n",
    "data_file = '/DNN_Model-10Second'\n",
    "\n",
    "\n",
    "model.compile(loss=keras.losses.categorical_crossentropy,\n",
    "              optimizer='adam',\n",
    "              metrics=['accuracy'])\n",
    "\n",
    "\n",
    "checkpointer = keras.callbacks.ModelCheckpoint(filepath=data_path+data_file, \n",
    "                                               verbose=1,\n",
    "                                               monitor='val_acc',\n",
    "                                               save_best_only=True, \n",
    "                                               save_weights_only=False)\n",
    "# checkpoint\n",
    "# filepath=\"weights.best.hdf5\"\n",
    "# checkpoint = ModelCheckpoint(filepath, monitor='val_acc', verbose=1, save_best_only=True, mode='max')\n",
    "callbacks_list = [checkpointer]\n",
    "\n",
    "H = model.fit(X_train, \n",
    "              Y_train, \n",
    "              batch_size=batch_size, \n",
    "              epochs=epochs, verbose=1, \n",
    "              shuffle=True, \n",
    "              validation_data=(X_val, Y_val), \n",
    "              callbacks=callbacks_list)"
   ]
  },
  {
   "cell_type": "code",
   "execution_count": 23,
   "metadata": {},
   "outputs": [
    {
     "name": "stdout",
     "output_type": "stream",
     "text": [
      "dict_keys(['val_loss', 'val_acc', 'loss', 'acc'])\n"
     ]
    },
    {
     "data": {
      "image/png": "[encoded data removed]",
      "text/plain": [
       "<Figure size 432x288 with 1 Axes>"
      ]
     },
     "metadata": {},
     "output_type": "display_data"
    },
    {
     "data": {
      "image/png": "[encoded data removed]",
      "text/plain": [
       "<Figure size 432x288 with 1 Axes>"
      ]
     },
     "metadata": {},
     "output_type": "display_data"
    }
   ],
   "source": [
    "print(H.history.keys())\n",
    "\n",
    "val_acc=H.history['val_acc']\n",
    "acc = H.history['acc']\n",
    "\n",
    "val_loss=H.history['val_loss']\n",
    "loss = H.history['loss']\n",
    "\n",
    "\n",
    "#fig= plt.figure(figsize=(15,10))\n",
    "plt.plot(val_acc,label='Val Acc')\n",
    "plt.plot(acc,label='Train Acc')\n",
    "plt.ylabel('Accuracy')\n",
    "plt.grid(True)\n",
    "plt.legend()\n",
    "plt.show()\n",
    "\n",
    "\n",
    "#fig= plt.figure(figsize=(15,10))\n",
    "plt.plot(val_loss,label='Val Loss')\n",
    "plt.plot(loss,label='Train Loss')\n",
    "\n",
    "plt.ylabel('Loss')\n",
    "plt.legend()\n",
    "plt.show()"
   ]
  },
  {
   "cell_type": "code",
   "execution_count": null,
   "metadata": {},
   "outputs": [],
   "source": []
  }
 ],
 "metadata": {
  "kernelspec": {
   "display_name": "Python [conda env:myenv]",
   "language": "python",
   "name": "conda-env-myenv-py"
  },
  "language_info": {
   "codemirror_mode": {
    "name": "ipython",
    "version": 3
   },
   "file_extension": ".py",
   "mimetype": "text/x-python",
   "name": "python",
   "nbconvert_exporter": "python",
   "pygments_lexer": "ipython3",
   "version": "3.6.5"
  }
 },
 "nbformat": 4,
 "nbformat_minor": 2
}
