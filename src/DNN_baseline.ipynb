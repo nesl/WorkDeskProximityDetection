{
 "cells": [
  {
   "cell_type": "code",
   "execution_count": 51,
   "metadata": {},
   "outputs": [],
   "source": [
    "import numpy as np\n",
    "import tensorflow as tf\n",
    "from tensorflow import keras\n",
    "#import sklearn\n",
    "from sklearn.preprocessing import normalize\n",
    "from scipy import stats"
   ]
  },
  {
   "cell_type": "code",
   "execution_count": 52,
   "metadata": {},
   "outputs": [],
   "source": [
    "feature_path = '../data/03996723-2411-4167-b14b-eb11dfc33124/features.npy'\n",
    "label_path = '../data/03996723-2411-4167-b14b-eb11dfc33124/labels.npy'\n",
    "features = np.load(feature_path)\n",
    "labels = stats.mode(np.load(label_path), axis=1)[0][:, 0]"
   ]
  },
  {
   "cell_type": "code",
   "execution_count": 53,
   "metadata": {},
   "outputs": [
    {
     "name": "stdout",
     "output_type": "stream",
     "text": [
      "(270899, 170)\n",
      "(270899,)\n"
     ]
    }
   ],
   "source": [
    "print(features.shape)\n",
    "print(labels.shape)"
   ]
  },
  {
   "cell_type": "code",
   "execution_count": 66,
   "metadata": {},
   "outputs": [
    {
     "name": "stdout",
     "output_type": "stream",
     "text": [
      "{0.0: 240175, 1.0: 30724}\n"
     ]
    }
   ],
   "source": [
    "unique, counts = np.unique(labels, return_counts=True)\n",
    "print(dict(zip(unique, counts)))"
   ]
  },
  {
   "cell_type": "code",
   "execution_count": 61,
   "metadata": {},
   "outputs": [
    {
     "name": "stdout",
     "output_type": "stream",
     "text": [
      "(203174, 170)\n",
      "(203174, 2)\n",
      "(67725, 170)\n",
      "(67725, 2)\n"
     ]
    }
   ],
   "source": [
    "num_classes = 2\n",
    "split_idx = int(features.shape[0] * 0.75)\n",
    "\n",
    "#X_train = normalize(features[:split_idx])\n",
    "X_train = features[:split_idx]\n",
    "Y_train = labels[:split_idx]\n",
    "\n",
    "#X_val = normalize(features[split_idx:])\n",
    "X_val = features[split_idx:]\n",
    "Y_val = labels[split_idx:]\n",
    "\n",
    "Y_train = keras.utils.to_categorical(Y_train, num_classes)\n",
    "Y_val = keras.utils.to_categorical(Y_val, num_classes)\n",
    "\n",
    "print(X_train.shape)\n",
    "print(Y_train.shape)\n",
    "print(X_val.shape)\n",
    "print(Y_val.shape)"
   ]
  },
  {
   "cell_type": "code",
   "execution_count": 62,
   "metadata": {},
   "outputs": [
    {
     "name": "stderr",
     "output_type": "stream",
     "text": [
      "/home/mperf/anaconda3/envs/myenv/lib/python3.6/site-packages/tensorflow/python/util/tf_inspect.py:75: DeprecationWarning: inspect.getargspec() is deprecated, use inspect.signature() or inspect.getfullargspec()\n",
      "  return _inspect.getargspec(target)\n"
     ]
    }
   ],
   "source": [
    "p = 0.3\n",
    "model = keras.Sequential()\n",
    "# Adds a densely-connected layer with 64 units to the model:\n",
    "model.add(keras.layers.Dense(units=64, activation='relu', input_dim=features.shape[1]))\n",
    "# Add another:\n",
    "model.add(keras.layers.Dropout(p))\n",
    "model.add(keras.layers.Dense(units=64, activation='relu'))\n",
    "model.add(keras.layers.Dropout(p))\n",
    "\n",
    "# Add a softmax layer with 10 output units:\n",
    "model.add(keras.layers.Dense(units=2, activation='softmax'))"
   ]
  },
  {
   "cell_type": "code",
   "execution_count": 63,
   "metadata": {},
   "outputs": [
    {
     "name": "stdout",
     "output_type": "stream",
     "text": [
      "_________________________________________________________________\n",
      "Layer (type)                 Output Shape              Param #   \n",
      "=================================================================\n",
      "dense_21 (Dense)             (None, 64)                10944     \n",
      "_________________________________________________________________\n",
      "dropout_11 (Dropout)         (None, 64)                0         \n",
      "_________________________________________________________________\n",
      "dense_22 (Dense)             (None, 64)                4160      \n",
      "_________________________________________________________________\n",
      "dropout_12 (Dropout)         (None, 64)                0         \n",
      "_________________________________________________________________\n",
      "dense_23 (Dense)             (None, 2)                 130       \n",
      "=================================================================\n",
      "Total params: 15,234\n",
      "Trainable params: 15,234\n",
      "Non-trainable params: 0\n",
      "_________________________________________________________________\n"
     ]
    }
   ],
   "source": [
    "model.summary()"
   ]
  },
  {
   "cell_type": "code",
   "execution_count": 64,
   "metadata": {},
   "outputs": [
    {
     "name": "stderr",
     "output_type": "stream",
     "text": [
      "/home/mperf/anaconda3/envs/myenv/lib/python3.6/site-packages/tensorflow/python/util/tf_inspect.py:75: DeprecationWarning: inspect.getargspec() is deprecated, use inspect.signature() or inspect.getfullargspec()\n",
      "  return _inspect.getargspec(target)\n"
     ]
    },
    {
     "name": "stdout",
     "output_type": "stream",
     "text": [
      "Train on 203174 samples, validate on 67725 samples\n",
      "Epoch 1/30\n",
      "203174/203174 [==============================] - 2s 8us/step - loss: 3.2331 - acc: 0.7993 - val_loss: 1.2866 - val_acc: 0.9202\n",
      "Epoch 2/30\n",
      "203174/203174 [==============================] - 1s 6us/step - loss: 2.0241 - acc: 0.8744 - val_loss: 1.2866 - val_acc: 0.9202\n",
      "Epoch 3/30\n",
      "203174/203174 [==============================] - 1s 6us/step - loss: 2.0209 - acc: 0.8746 - val_loss: 1.2866 - val_acc: 0.9202\n",
      "Epoch 4/30\n",
      "203174/203174 [==============================] - 1s 6us/step - loss: 2.0103 - acc: 0.8753 - val_loss: 1.2866 - val_acc: 0.9202\n",
      "Epoch 5/30\n",
      "203174/203174 [==============================] - 1s 6us/step - loss: 2.0086 - acc: 0.8754 - val_loss: 1.2866 - val_acc: 0.9202\n",
      "Epoch 6/30\n",
      "203174/203174 [==============================] - 1s 6us/step - loss: 2.0088 - acc: 0.8754 - val_loss: 1.2866 - val_acc: 0.9202\n",
      "Epoch 7/30\n",
      "203174/203174 [==============================] - 1s 6us/step - loss: 2.0087 - acc: 0.8754 - val_loss: 1.2866 - val_acc: 0.9202\n",
      "Epoch 8/30\n",
      "203174/203174 [==============================] - 1s 6us/step - loss: 2.0086 - acc: 0.8754 - val_loss: 1.2866 - val_acc: 0.9202\n",
      "Epoch 9/30\n",
      "203174/203174 [==============================] - 1s 6us/step - loss: 2.0087 - acc: 0.8754 - val_loss: 1.2866 - val_acc: 0.9202\n",
      "Epoch 10/30\n",
      "203174/203174 [==============================] - 1s 6us/step - loss: 2.0088 - acc: 0.8754 - val_loss: 1.2866 - val_acc: 0.9202\n",
      "Epoch 11/30\n",
      "203174/203174 [==============================] - 1s 6us/step - loss: 2.0084 - acc: 0.8754 - val_loss: 1.2866 - val_acc: 0.9202\n",
      "Epoch 12/30\n",
      "203174/203174 [==============================] - 1s 6us/step - loss: 2.0088 - acc: 0.8754 - val_loss: 1.2866 - val_acc: 0.9202\n",
      "Epoch 13/30\n",
      "203174/203174 [==============================] - 1s 6us/step - loss: 2.0087 - acc: 0.8754 - val_loss: 1.2866 - val_acc: 0.9202\n",
      "Epoch 14/30\n",
      "203174/203174 [==============================] - 1s 6us/step - loss: 2.0088 - acc: 0.8754 - val_loss: 1.2866 - val_acc: 0.9202\n",
      "Epoch 15/30\n",
      "203174/203174 [==============================] - 1s 6us/step - loss: 2.0085 - acc: 0.8754 - val_loss: 1.2866 - val_acc: 0.9202\n",
      "Epoch 16/30\n",
      "203174/203174 [==============================] - 1s 6us/step - loss: 2.0085 - acc: 0.8754 - val_loss: 1.2866 - val_acc: 0.9202\n",
      "Epoch 17/30\n",
      "203174/203174 [==============================] - 1s 6us/step - loss: 2.0089 - acc: 0.8754 - val_loss: 1.2866 - val_acc: 0.9202\n",
      "Epoch 18/30\n",
      "203174/203174 [==============================] - 1s 6us/step - loss: 2.0086 - acc: 0.8754 - val_loss: 1.2866 - val_acc: 0.9202\n",
      "Epoch 19/30\n",
      "203174/203174 [==============================] - 1s 6us/step - loss: 2.0088 - acc: 0.8754 - val_loss: 1.2866 - val_acc: 0.9202\n",
      "Epoch 20/30\n",
      "203174/203174 [==============================] - 1s 6us/step - loss: 2.0086 - acc: 0.8754 - val_loss: 1.2866 - val_acc: 0.9202\n",
      "Epoch 21/30\n",
      "203174/203174 [==============================] - 1s 6us/step - loss: 2.0087 - acc: 0.8754 - val_loss: 1.2866 - val_acc: 0.9202\n",
      "Epoch 22/30\n",
      "203174/203174 [==============================] - 1s 6us/step - loss: 2.0086 - acc: 0.8754 - val_loss: 1.2866 - val_acc: 0.9202\n",
      "Epoch 23/30\n",
      "203174/203174 [==============================] - 1s 6us/step - loss: 2.0087 - acc: 0.8754 - val_loss: 1.2866 - val_acc: 0.9202\n",
      "Epoch 24/30\n",
      "203174/203174 [==============================] - 1s 6us/step - loss: 2.0087 - acc: 0.8754 - val_loss: 1.2866 - val_acc: 0.9202\n",
      "Epoch 25/30\n",
      "203174/203174 [==============================] - 1s 6us/step - loss: 2.0088 - acc: 0.8754 - val_loss: 1.2866 - val_acc: 0.9202\n",
      "Epoch 26/30\n",
      "203174/203174 [==============================] - 1s 6us/step - loss: 2.0087 - acc: 0.8754 - val_loss: 1.2866 - val_acc: 0.9202\n",
      "Epoch 27/30\n",
      "203174/203174 [==============================] - 1s 6us/step - loss: 2.0084 - acc: 0.8754 - val_loss: 1.2866 - val_acc: 0.9202\n",
      "Epoch 28/30\n",
      "203174/203174 [==============================] - 1s 6us/step - loss: 2.0086 - acc: 0.8754 - val_loss: 1.2866 - val_acc: 0.9202\n",
      "Epoch 29/30\n",
      "203174/203174 [==============================] - 1s 6us/step - loss: 2.0087 - acc: 0.8754 - val_loss: 1.2866 - val_acc: 0.9202\n",
      "Epoch 30/30\n",
      "203174/203174 [==============================] - 1s 6us/step - loss: 2.0085 - acc: 0.8754 - val_loss: 1.2866 - val_acc: 0.9202\n"
     ]
    }
   ],
   "source": [
    "epochs = 30\n",
    "batch_size = 512\n",
    "\n",
    "model.compile(loss=keras.losses.categorical_crossentropy,\n",
    "              optimizer='adam',\n",
    "              metrics=['accuracy'])\n",
    "\n",
    "# checkpoint\n",
    "# filepath=\"weights.best.hdf5\"\n",
    "# checkpoint = ModelCheckpoint(filepath, monitor='val_acc', verbose=1, save_best_only=True, mode='max')\n",
    "# callbacks_list = [checkpoint]\n",
    "\n",
    "H = model.fit(X_train, Y_train,\n",
    "            batch_size=batch_size,\n",
    "            epochs=epochs,\n",
    "            verbose=1,\n",
    "            shuffle=True,\n",
    "            validation_data=(X_val, Y_val))#,\n",
    "             #callbacks=callbacks_list)"
   ]
  }
 ],
 "metadata": {
  "kernelspec": {
   "display_name": "Python [conda env:myenv]",
   "language": "python",
   "name": "conda-env-myenv-py"
  },
  "language_info": {
   "codemirror_mode": {
    "name": "ipython",
    "version": 3
   },
   "file_extension": ".py",
   "mimetype": "text/x-python",
   "name": "python",
   "nbconvert_exporter": "python",
   "pygments_lexer": "ipython3",
   "version": "3.6.5"
  }
 },
 "nbformat": 4,
 "nbformat_minor": 2
}
