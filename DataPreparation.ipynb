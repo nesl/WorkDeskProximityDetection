{
 "cells": [
  {
   "cell_type": "code",
   "execution_count": 65,
   "metadata": {},
   "outputs": [
    {
     "name": "stdout",
     "output_type": "stream",
     "text": [
      "The autoreload extension is already loaded. To reload it, use:\n",
      "  %reload_ext autoreload\n"
     ]
    }
   ],
   "source": [
    "%matplotlib inline\n",
    "%load_ext autoreload\n",
    "%autoreload 2\n",
    "\n",
    "import warnings\n",
    "#warnings.simplefilter(\"ignore\", category=DeprecationWarning)\n",
    "#warnings.simplefilter(\"ignore\", category=PendingDeprecationWarning)\n",
    "#warnings.simplefilter(\"ignore\", category=ImportWarning)\n",
    "warnings.filterwarnings(\"ignore\")\n",
    "\n",
    "\n",
    "# Standard library imports.\n",
    "from datetime import timedelta, datetime\n",
    "import pprint\n",
    "import pickle\n",
    "import json\n",
    "from typing import List, Dict\n",
    "\n",
    "# Related third party imports.\n",
    "import matplotlib.pyplot as plt\n",
    "import numpy as np\n",
    "\n",
    "# Local application/library specific imports.\n",
    "from cerebralcortex.cerebralcortex import CerebralCortex\n",
    "from cerebralcortex.core.datatypes.datastream import DataPoint\n",
    "import utils\n",
    "import validation"
   ]
  },
  {
   "cell_type": "code",
   "execution_count": 66,
   "metadata": {},
   "outputs": [],
   "source": [
    "# Load all user IDs\n",
    "with open('users.json', 'r') as f:\n",
    "    USR_IDS = json.load(f)\n",
    "\n",
    "# Load CerebralCortex Configurations\n",
    "CC = CerebralCortex(\"/home/mperf/sandeep/CerebralCortex-DockerCompose/cc_config_file/cc_vagrant_configuration.yml\")\n",
    "\n",
    "pp = pprint.PrettyPrinter(indent=2)"
   ]
  },
  {
   "cell_type": "code",
   "execution_count": 67,
   "metadata": {
    "scrolled": false
   },
   "outputs": [
    {
     "name": "stderr",
     "output_type": "stream",
     "text": [
      "/home/mperf/sandeep/CerebralCortex/cerebralcortex/cerebralcortex.py:189: DeprecationWarning: PLEASE USE stream_ids KEY IN DICT OBJECT TO GET ALL STREAM IDS OF A STREAM NAME. Identifier key will be removed in CerebralCortex version 2.2.4.\n",
      "  warnings.warn(\"PLEASE USE stream_ids KEY IN DICT OBJECT TO GET ALL STREAM IDS OF A STREAM NAME. Identifier key will be removed in CerebralCortex version 2.2.4.\", DeprecationWarning)\n",
      "/home/mperf/sandeep/CerebralCortex/cerebralcortex/cerebralcortex.py:189: DeprecationWarning: PLEASE USE stream_ids KEY IN DICT OBJECT TO GET ALL STREAM IDS OF A STREAM NAME. Identifier key will be removed in CerebralCortex version 2.2.4.\n",
      "  warnings.warn(\"PLEASE USE stream_ids KEY IN DICT OBJECT TO GET ALL STREAM IDS OF A STREAM NAME. Identifier key will be removed in CerebralCortex version 2.2.4.\", DeprecationWarning)\n",
      "/home/mperf/sandeep/CerebralCortex/cerebralcortex/cerebralcortex.py:189: DeprecationWarning: PLEASE USE stream_ids KEY IN DICT OBJECT TO GET ALL STREAM IDS OF A STREAM NAME. Identifier key will be removed in CerebralCortex version 2.2.4.\n",
      "  warnings.warn(\"PLEASE USE stream_ids KEY IN DICT OBJECT TO GET ALL STREAM IDS OF A STREAM NAME. Identifier key will be removed in CerebralCortex version 2.2.4.\", DeprecationWarning)\n"
     ]
    },
    {
     "name": "stdout",
     "output_type": "stream",
     "text": [
      "00162d05-3248-4b7d-b4f6-8593b4faaa63 does not have stream STEP_COUNT--org.md2k.phonesensor--PHONE\n"
     ]
    },
    {
     "name": "stderr",
     "output_type": "stream",
     "text": [
      "/home/mperf/sandeep/CerebralCortex/cerebralcortex/cerebralcortex.py:189: DeprecationWarning: PLEASE USE stream_ids KEY IN DICT OBJECT TO GET ALL STREAM IDS OF A STREAM NAME. Identifier key will be removed in CerebralCortex version 2.2.4.\n",
      "  warnings.warn(\"PLEASE USE stream_ids KEY IN DICT OBJECT TO GET ALL STREAM IDS OF A STREAM NAME. Identifier key will be removed in CerebralCortex version 2.2.4.\", DeprecationWarning)\n",
      "/home/mperf/sandeep/CerebralCortex/cerebralcortex/cerebralcortex.py:189: DeprecationWarning: PLEASE USE stream_ids KEY IN DICT OBJECT TO GET ALL STREAM IDS OF A STREAM NAME. Identifier key will be removed in CerebralCortex version 2.2.4.\n",
      "  warnings.warn(\"PLEASE USE stream_ids KEY IN DICT OBJECT TO GET ALL STREAM IDS OF A STREAM NAME. Identifier key will be removed in CerebralCortex version 2.2.4.\", DeprecationWarning)\n",
      "/home/mperf/sandeep/CerebralCortex/cerebralcortex/cerebralcortex.py:189: DeprecationWarning: PLEASE USE stream_ids KEY IN DICT OBJECT TO GET ALL STREAM IDS OF A STREAM NAME. Identifier key will be removed in CerebralCortex version 2.2.4.\n",
      "  warnings.warn(\"PLEASE USE stream_ids KEY IN DICT OBJECT TO GET ALL STREAM IDS OF A STREAM NAME. Identifier key will be removed in CerebralCortex version 2.2.4.\", DeprecationWarning)\n",
      "/home/mperf/sandeep/CerebralCortex/cerebralcortex/cerebralcortex.py:189: DeprecationWarning: PLEASE USE stream_ids KEY IN DICT OBJECT TO GET ALL STREAM IDS OF A STREAM NAME. Identifier key will be removed in CerebralCortex version 2.2.4.\n",
      "  warnings.warn(\"PLEASE USE stream_ids KEY IN DICT OBJECT TO GET ALL STREAM IDS OF A STREAM NAME. Identifier key will be removed in CerebralCortex version 2.2.4.\", DeprecationWarning)\n",
      "/home/mperf/sandeep/CerebralCortex/cerebralcortex/cerebralcortex.py:189: DeprecationWarning: PLEASE USE stream_ids KEY IN DICT OBJECT TO GET ALL STREAM IDS OF A STREAM NAME. Identifier key will be removed in CerebralCortex version 2.2.4.\n",
      "  warnings.warn(\"PLEASE USE stream_ids KEY IN DICT OBJECT TO GET ALL STREAM IDS OF A STREAM NAME. Identifier key will be removed in CerebralCortex version 2.2.4.\", DeprecationWarning)\n",
      "/home/mperf/sandeep/CerebralCortex/cerebralcortex/cerebralcortex.py:189: DeprecationWarning: PLEASE USE stream_ids KEY IN DICT OBJECT TO GET ALL STREAM IDS OF A STREAM NAME. Identifier key will be removed in CerebralCortex version 2.2.4.\n",
      "  warnings.warn(\"PLEASE USE stream_ids KEY IN DICT OBJECT TO GET ALL STREAM IDS OF A STREAM NAME. Identifier key will be removed in CerebralCortex version 2.2.4.\", DeprecationWarning)\n",
      "/home/mperf/sandeep/CerebralCortex/cerebralcortex/cerebralcortex.py:189: DeprecationWarning: PLEASE USE stream_ids KEY IN DICT OBJECT TO GET ALL STREAM IDS OF A STREAM NAME. Identifier key will be removed in CerebralCortex version 2.2.4.\n",
      "  warnings.warn(\"PLEASE USE stream_ids KEY IN DICT OBJECT TO GET ALL STREAM IDS OF A STREAM NAME. Identifier key will be removed in CerebralCortex version 2.2.4.\", DeprecationWarning)\n",
      "/home/mperf/sandeep/CerebralCortex/cerebralcortex/cerebralcortex.py:189: DeprecationWarning: PLEASE USE stream_ids KEY IN DICT OBJECT TO GET ALL STREAM IDS OF A STREAM NAME. Identifier key will be removed in CerebralCortex version 2.2.4.\n",
      "  warnings.warn(\"PLEASE USE stream_ids KEY IN DICT OBJECT TO GET ALL STREAM IDS OF A STREAM NAME. Identifier key will be removed in CerebralCortex version 2.2.4.\", DeprecationWarning)\n",
      "/home/mperf/sandeep/CerebralCortex/cerebralcortex/cerebralcortex.py:189: DeprecationWarning: PLEASE USE stream_ids KEY IN DICT OBJECT TO GET ALL STREAM IDS OF A STREAM NAME. Identifier key will be removed in CerebralCortex version 2.2.4.\n",
      "  warnings.warn(\"PLEASE USE stream_ids KEY IN DICT OBJECT TO GET ALL STREAM IDS OF A STREAM NAME. Identifier key will be removed in CerebralCortex version 2.2.4.\", DeprecationWarning)\n",
      "/home/mperf/sandeep/CerebralCortex/cerebralcortex/cerebralcortex.py:189: DeprecationWarning: PLEASE USE stream_ids KEY IN DICT OBJECT TO GET ALL STREAM IDS OF A STREAM NAME. Identifier key will be removed in CerebralCortex version 2.2.4.\n",
      "  warnings.warn(\"PLEASE USE stream_ids KEY IN DICT OBJECT TO GET ALL STREAM IDS OF A STREAM NAME. Identifier key will be removed in CerebralCortex version 2.2.4.\", DeprecationWarning)\n",
      "/home/mperf/sandeep/CerebralCortex/cerebralcortex/cerebralcortex.py:189: DeprecationWarning: PLEASE USE stream_ids KEY IN DICT OBJECT TO GET ALL STREAM IDS OF A STREAM NAME. Identifier key will be removed in CerebralCortex version 2.2.4.\n",
      "  warnings.warn(\"PLEASE USE stream_ids KEY IN DICT OBJECT TO GET ALL STREAM IDS OF A STREAM NAME. Identifier key will be removed in CerebralCortex version 2.2.4.\", DeprecationWarning)\n",
      "/home/mperf/sandeep/CerebralCortex/cerebralcortex/cerebralcortex.py:189: DeprecationWarning: PLEASE USE stream_ids KEY IN DICT OBJECT TO GET ALL STREAM IDS OF A STREAM NAME. Identifier key will be removed in CerebralCortex version 2.2.4.\n",
      "  warnings.warn(\"PLEASE USE stream_ids KEY IN DICT OBJECT TO GET ALL STREAM IDS OF A STREAM NAME. Identifier key will be removed in CerebralCortex version 2.2.4.\", DeprecationWarning)\n",
      "/home/mperf/sandeep/CerebralCortex/cerebralcortex/cerebralcortex.py:189: DeprecationWarning: PLEASE USE stream_ids KEY IN DICT OBJECT TO GET ALL STREAM IDS OF A STREAM NAME. Identifier key will be removed in CerebralCortex version 2.2.4.\n",
      "  warnings.warn(\"PLEASE USE stream_ids KEY IN DICT OBJECT TO GET ALL STREAM IDS OF A STREAM NAME. Identifier key will be removed in CerebralCortex version 2.2.4.\", DeprecationWarning)\n"
     ]
    }
   ],
   "source": [
    "# Dictionary: usr_id -> list of datapoints\n",
    "act_type = dict()\n",
    "step_cnt = dict()\n",
    "left_accel = dict()\n",
    "left_gyro = dict()\n",
    "\n",
    "for usr_id in USR_IDS:\n",
    "    data = utils.extract_all_data(CC, usr_id, 'ACTIVITY_TYPE--org.md2k.phonesensor--PHONE')\n",
    "    act_type[usr_id] = validation.validate_activity_type(data)\n",
    "    \n",
    "    data = utils.extract_all_data(CC, usr_id, 'STEP_COUNT--org.md2k.phonesensor--PHONE')\n",
    "    step_cnt[usr_id] = validation.validate_step_count(data)\n",
    "    #left_accel[usr_id] = utils.extract_all_data(CC, usr_id, 'ACCELEROMETER--org.md2k.motionsense--MOTION_SENSE_HRV--LEFT_WRIST')\n",
    "    #left_gyro[usr_id] = utils.extract_all_data(CC, usr_id, 'GYROSCOPE--org.md2k.motionsense--MOTION_SENSE_HRV--LEFT_WRIST')"
   ]
  },
  {
   "cell_type": "code",
   "execution_count": 70,
   "metadata": {
    "scrolled": false
   },
   "outputs": [],
   "source": [
    "for usr_id in act_type.keys():\n",
    "    types = act_type[usr_id]\n",
    "    types = utils.to_numpy_array(util.fill_missing_values(types, 1))\n",
    "    np.savetxt('act_type'+usr_id+'.csv', types, delimiter=',')"
   ]
  },
  {
   "cell_type": "code",
   "execution_count": 71,
   "metadata": {},
   "outputs": [],
   "source": [
    "for usr_id in step_cnt.keys():\n",
    "    cnts = step_cnt[usr_id]\n",
    "    cnts = utils.to_numpy_array(cnts)\n",
    "    np.savetxt('step_cnt'+usr_id+'.csv', cnts, delimiter=',')"
   ]
  }
 ],
 "metadata": {
  "kernelspec": {
   "display_name": "Python [conda env:myenv]",
   "language": "python",
   "name": "conda-env-myenv-py"
  },
  "language_info": {
   "codemirror_mode": {
    "name": "ipython",
    "version": 3
   },
   "file_extension": ".py",
   "mimetype": "text/x-python",
   "name": "python",
   "nbconvert_exporter": "python",
   "pygments_lexer": "ipython3",
   "version": "3.6.5"
  }
 },
 "nbformat": 4,
 "nbformat_minor": 2
}
